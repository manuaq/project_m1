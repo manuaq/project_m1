{
 "cells": [
  {
   "cell_type": "markdown",
   "metadata": {},
   "source": [
    "#### First, I will state the libraries needed to work in the project."
   ]
  },
  {
   "cell_type": "code",
   "execution_count": 1,
   "metadata": {},
   "outputs": [],
   "source": [
    "import pandas as pd\n",
    "\n",
    "import pymysql\n",
    "\n",
    "from sqlalchemy import create_engine"
   ]
  },
  {
   "cell_type": "markdown",
   "metadata": {},
   "source": [
    "#### Second, I will state explicitly the path, connection string and engine that will provide access to our raw data."
   ]
  },
  {
   "cell_type": "code",
   "execution_count": 2,
   "metadata": {},
   "outputs": [],
   "source": [
    "sqlitedb_abs_path = '/Users/manuelaquino/Bootcamp/project_m1/raw_data_project_m1.db'\n",
    "\n",
    "connection_string = f'sqlite:///{sqlitedb_abs_path}'\n",
    "\n",
    "engine = create_engine(connection_string)"
   ]
  },
  {
   "cell_type": "markdown",
   "metadata": {},
   "source": [
    "#### Down here, I will just see my database tables and query \"SELECT *\" from each table. \n",
    "#### This allows me to confirm my connection and to take a first look at the data contained."
   ]
  },
  {
   "cell_type": "code",
   "execution_count": 3,
   "metadata": {},
   "outputs": [
    {
     "data": {
      "text/html": [
       "<div>\n",
       "<style scoped>\n",
       "    .dataframe tbody tr th:only-of-type {\n",
       "        vertical-align: middle;\n",
       "    }\n",
       "\n",
       "    .dataframe tbody tr th {\n",
       "        vertical-align: top;\n",
       "    }\n",
       "\n",
       "    .dataframe thead th {\n",
       "        text-align: right;\n",
       "    }\n",
       "</style>\n",
       "<table border=\"1\" class=\"dataframe\">\n",
       "  <thead>\n",
       "    <tr style=\"text-align: right;\">\n",
       "      <th></th>\n",
       "      <th>name</th>\n",
       "    </tr>\n",
       "  </thead>\n",
       "  <tbody>\n",
       "    <tr>\n",
       "      <th>0</th>\n",
       "      <td>personal_info</td>\n",
       "    </tr>\n",
       "    <tr>\n",
       "      <th>1</th>\n",
       "      <td>country_info</td>\n",
       "    </tr>\n",
       "    <tr>\n",
       "      <th>2</th>\n",
       "      <td>career_info</td>\n",
       "    </tr>\n",
       "    <tr>\n",
       "      <th>3</th>\n",
       "      <td>poll_info</td>\n",
       "    </tr>\n",
       "  </tbody>\n",
       "</table>\n",
       "</div>"
      ],
      "text/plain": [
       "            name\n",
       "0  personal_info\n",
       "1   country_info\n",
       "2    career_info\n",
       "3      poll_info"
      ]
     },
     "execution_count": 3,
     "metadata": {},
     "output_type": "execute_result"
    }
   ],
   "source": [
    "pd.read_sql_query(\"SELECT name FROM sqlite_master WHERE type='table'\", engine)"
   ]
  },
  {
   "cell_type": "code",
   "execution_count": 4,
   "metadata": {},
   "outputs": [
    {
     "data": {
      "text/html": [
       "<div>\n",
       "<style scoped>\n",
       "    .dataframe tbody tr th:only-of-type {\n",
       "        vertical-align: middle;\n",
       "    }\n",
       "\n",
       "    .dataframe tbody tr th {\n",
       "        vertical-align: top;\n",
       "    }\n",
       "\n",
       "    .dataframe thead th {\n",
       "        text-align: right;\n",
       "    }\n",
       "</style>\n",
       "<table border=\"1\" class=\"dataframe\">\n",
       "  <thead>\n",
       "    <tr style=\"text-align: right;\">\n",
       "      <th></th>\n",
       "      <th>uuid</th>\n",
       "      <th>age</th>\n",
       "      <th>gender</th>\n",
       "      <th>dem_has_children</th>\n",
       "      <th>age_group</th>\n",
       "    </tr>\n",
       "  </thead>\n",
       "  <tbody>\n",
       "    <tr>\n",
       "      <th>0</th>\n",
       "      <td>f6e7ee00-deac-0133-4de8-0a81e8b09a82</td>\n",
       "      <td>61 years old</td>\n",
       "      <td>male</td>\n",
       "      <td>NO</td>\n",
       "      <td>40_65</td>\n",
       "    </tr>\n",
       "    <tr>\n",
       "      <th>1</th>\n",
       "      <td>54f0f1c0-dda1-0133-a559-0a81e8b09a82</td>\n",
       "      <td>57 years old</td>\n",
       "      <td>male</td>\n",
       "      <td>yES</td>\n",
       "      <td>40_65</td>\n",
       "    </tr>\n",
       "    <tr>\n",
       "      <th>2</th>\n",
       "      <td>83127080-da3d-0133-c74f-0a81e8b09a82</td>\n",
       "      <td>32 years old</td>\n",
       "      <td>male</td>\n",
       "      <td>nO</td>\n",
       "      <td>26_39</td>\n",
       "    </tr>\n",
       "    <tr>\n",
       "      <th>3</th>\n",
       "      <td>15626d40-db13-0133-ea5c-0a81e8b09a82</td>\n",
       "      <td>45 years old</td>\n",
       "      <td>Male</td>\n",
       "      <td>YES</td>\n",
       "      <td>40_65</td>\n",
       "    </tr>\n",
       "    <tr>\n",
       "      <th>4</th>\n",
       "      <td>24954a70-db98-0133-4a64-0a81e8b09a82</td>\n",
       "      <td>41 years old</td>\n",
       "      <td>Fem</td>\n",
       "      <td>yES</td>\n",
       "      <td>40_65</td>\n",
       "    </tr>\n",
       "    <tr>\n",
       "      <th>...</th>\n",
       "      <td>...</td>\n",
       "      <td>...</td>\n",
       "      <td>...</td>\n",
       "      <td>...</td>\n",
       "      <td>...</td>\n",
       "    </tr>\n",
       "    <tr>\n",
       "      <th>9644</th>\n",
       "      <td>7d1ac020-dcb4-0133-817a-0a81e8b09a82</td>\n",
       "      <td>37 years old</td>\n",
       "      <td>FeMale</td>\n",
       "      <td>nO</td>\n",
       "      <td>26_39</td>\n",
       "    </tr>\n",
       "    <tr>\n",
       "      <th>9645</th>\n",
       "      <td>39f989f0-db52-0133-8482-0a81e8b09a82</td>\n",
       "      <td>53 years old</td>\n",
       "      <td>Male</td>\n",
       "      <td>yES</td>\n",
       "      <td>40_65</td>\n",
       "    </tr>\n",
       "    <tr>\n",
       "      <th>9646</th>\n",
       "      <td>70ce4a90-d965-0133-f5e4-0a81e8b09a82</td>\n",
       "      <td>1992</td>\n",
       "      <td>male</td>\n",
       "      <td>NO</td>\n",
       "      <td>juvenile</td>\n",
       "    </tr>\n",
       "    <tr>\n",
       "      <th>9647</th>\n",
       "      <td>2896e440-db3c-0133-5b67-0a81e8b09a82</td>\n",
       "      <td>47 years old</td>\n",
       "      <td>male</td>\n",
       "      <td>yES</td>\n",
       "      <td>40_65</td>\n",
       "    </tr>\n",
       "    <tr>\n",
       "      <th>9648</th>\n",
       "      <td>06217ba0-dd56-0133-edda-0a81e8b09a82</td>\n",
       "      <td>51 years old</td>\n",
       "      <td>FeMale</td>\n",
       "      <td>YES</td>\n",
       "      <td>40_65</td>\n",
       "    </tr>\n",
       "  </tbody>\n",
       "</table>\n",
       "<p>9649 rows × 5 columns</p>\n",
       "</div>"
      ],
      "text/plain": [
       "                                      uuid           age  gender  \\\n",
       "0     f6e7ee00-deac-0133-4de8-0a81e8b09a82  61 years old    male   \n",
       "1     54f0f1c0-dda1-0133-a559-0a81e8b09a82  57 years old    male   \n",
       "2     83127080-da3d-0133-c74f-0a81e8b09a82  32 years old    male   \n",
       "3     15626d40-db13-0133-ea5c-0a81e8b09a82  45 years old    Male   \n",
       "4     24954a70-db98-0133-4a64-0a81e8b09a82  41 years old     Fem   \n",
       "...                                    ...           ...     ...   \n",
       "9644  7d1ac020-dcb4-0133-817a-0a81e8b09a82  37 years old  FeMale   \n",
       "9645  39f989f0-db52-0133-8482-0a81e8b09a82  53 years old    Male   \n",
       "9646  70ce4a90-d965-0133-f5e4-0a81e8b09a82          1992    male   \n",
       "9647  2896e440-db3c-0133-5b67-0a81e8b09a82  47 years old    male   \n",
       "9648  06217ba0-dd56-0133-edda-0a81e8b09a82  51 years old  FeMale   \n",
       "\n",
       "     dem_has_children age_group  \n",
       "0                  NO     40_65  \n",
       "1                 yES     40_65  \n",
       "2                  nO     26_39  \n",
       "3                 YES     40_65  \n",
       "4                 yES     40_65  \n",
       "...               ...       ...  \n",
       "9644               nO     26_39  \n",
       "9645              yES     40_65  \n",
       "9646               NO  juvenile  \n",
       "9647              yES     40_65  \n",
       "9648              YES     40_65  \n",
       "\n",
       "[9649 rows x 5 columns]"
      ]
     },
     "execution_count": 4,
     "metadata": {},
     "output_type": "execute_result"
    }
   ],
   "source": [
    "pd.read_sql_query(\"SELECT * FROM personal_info\", engine)"
   ]
  },
  {
   "cell_type": "code",
   "execution_count": 5,
   "metadata": {},
   "outputs": [
    {
     "data": {
      "text/html": [
       "<div>\n",
       "<style scoped>\n",
       "    .dataframe tbody tr th:only-of-type {\n",
       "        vertical-align: middle;\n",
       "    }\n",
       "\n",
       "    .dataframe tbody tr th {\n",
       "        vertical-align: top;\n",
       "    }\n",
       "\n",
       "    .dataframe thead th {\n",
       "        text-align: right;\n",
       "    }\n",
       "</style>\n",
       "<table border=\"1\" class=\"dataframe\">\n",
       "  <thead>\n",
       "    <tr style=\"text-align: right;\">\n",
       "      <th></th>\n",
       "      <th>uuid</th>\n",
       "      <th>country_code</th>\n",
       "      <th>rural</th>\n",
       "    </tr>\n",
       "  </thead>\n",
       "  <tbody>\n",
       "    <tr>\n",
       "      <th>0</th>\n",
       "      <td>f6e7ee00-deac-0133-4de8-0a81e8b09a82</td>\n",
       "      <td>AT</td>\n",
       "      <td>countryside</td>\n",
       "    </tr>\n",
       "    <tr>\n",
       "      <th>1</th>\n",
       "      <td>54f0f1c0-dda1-0133-a559-0a81e8b09a82</td>\n",
       "      <td>AT</td>\n",
       "      <td>urban</td>\n",
       "    </tr>\n",
       "    <tr>\n",
       "      <th>2</th>\n",
       "      <td>83127080-da3d-0133-c74f-0a81e8b09a82</td>\n",
       "      <td>AT</td>\n",
       "      <td>city</td>\n",
       "    </tr>\n",
       "    <tr>\n",
       "      <th>3</th>\n",
       "      <td>15626d40-db13-0133-ea5c-0a81e8b09a82</td>\n",
       "      <td>AT</td>\n",
       "      <td>Country</td>\n",
       "    </tr>\n",
       "    <tr>\n",
       "      <th>4</th>\n",
       "      <td>24954a70-db98-0133-4a64-0a81e8b09a82</td>\n",
       "      <td>AT</td>\n",
       "      <td>city</td>\n",
       "    </tr>\n",
       "    <tr>\n",
       "      <th>...</th>\n",
       "      <td>...</td>\n",
       "      <td>...</td>\n",
       "      <td>...</td>\n",
       "    </tr>\n",
       "    <tr>\n",
       "      <th>9644</th>\n",
       "      <td>7d1ac020-dcb4-0133-817a-0a81e8b09a82</td>\n",
       "      <td>SK</td>\n",
       "      <td>urban</td>\n",
       "    </tr>\n",
       "    <tr>\n",
       "      <th>9645</th>\n",
       "      <td>39f989f0-db52-0133-8482-0a81e8b09a82</td>\n",
       "      <td>SK</td>\n",
       "      <td>urban</td>\n",
       "    </tr>\n",
       "    <tr>\n",
       "      <th>9646</th>\n",
       "      <td>70ce4a90-d965-0133-f5e4-0a81e8b09a82</td>\n",
       "      <td>SK</td>\n",
       "      <td>Non-Rural</td>\n",
       "    </tr>\n",
       "    <tr>\n",
       "      <th>9647</th>\n",
       "      <td>2896e440-db3c-0133-5b67-0a81e8b09a82</td>\n",
       "      <td>SK</td>\n",
       "      <td>city</td>\n",
       "    </tr>\n",
       "    <tr>\n",
       "      <th>9648</th>\n",
       "      <td>06217ba0-dd56-0133-edda-0a81e8b09a82</td>\n",
       "      <td>SK</td>\n",
       "      <td>city</td>\n",
       "    </tr>\n",
       "  </tbody>\n",
       "</table>\n",
       "<p>9649 rows × 3 columns</p>\n",
       "</div>"
      ],
      "text/plain": [
       "                                      uuid country_code        rural\n",
       "0     f6e7ee00-deac-0133-4de8-0a81e8b09a82           AT  countryside\n",
       "1     54f0f1c0-dda1-0133-a559-0a81e8b09a82           AT        urban\n",
       "2     83127080-da3d-0133-c74f-0a81e8b09a82           AT         city\n",
       "3     15626d40-db13-0133-ea5c-0a81e8b09a82           AT      Country\n",
       "4     24954a70-db98-0133-4a64-0a81e8b09a82           AT         city\n",
       "...                                    ...          ...          ...\n",
       "9644  7d1ac020-dcb4-0133-817a-0a81e8b09a82           SK        urban\n",
       "9645  39f989f0-db52-0133-8482-0a81e8b09a82           SK        urban\n",
       "9646  70ce4a90-d965-0133-f5e4-0a81e8b09a82           SK    Non-Rural\n",
       "9647  2896e440-db3c-0133-5b67-0a81e8b09a82           SK         city\n",
       "9648  06217ba0-dd56-0133-edda-0a81e8b09a82           SK         city\n",
       "\n",
       "[9649 rows x 3 columns]"
      ]
     },
     "execution_count": 5,
     "metadata": {},
     "output_type": "execute_result"
    }
   ],
   "source": [
    "pd.read_sql_query(\"SELECT * FROM country_info\", engine)"
   ]
  },
  {
   "cell_type": "code",
   "execution_count": 6,
   "metadata": {},
   "outputs": [
    {
     "data": {
      "text/html": [
       "<div>\n",
       "<style scoped>\n",
       "    .dataframe tbody tr th:only-of-type {\n",
       "        vertical-align: middle;\n",
       "    }\n",
       "\n",
       "    .dataframe tbody tr th {\n",
       "        vertical-align: top;\n",
       "    }\n",
       "\n",
       "    .dataframe thead th {\n",
       "        text-align: right;\n",
       "    }\n",
       "</style>\n",
       "<table border=\"1\" class=\"dataframe\">\n",
       "  <thead>\n",
       "    <tr style=\"text-align: right;\">\n",
       "      <th></th>\n",
       "      <th>uuid</th>\n",
       "      <th>dem_education_level</th>\n",
       "      <th>dem_full_time_job</th>\n",
       "      <th>normalized_job_code</th>\n",
       "    </tr>\n",
       "  </thead>\n",
       "  <tbody>\n",
       "    <tr>\n",
       "      <th>0</th>\n",
       "      <td>f6e7ee00-deac-0133-4de8-0a81e8b09a82</td>\n",
       "      <td>no</td>\n",
       "      <td>no</td>\n",
       "      <td>None</td>\n",
       "    </tr>\n",
       "    <tr>\n",
       "      <th>1</th>\n",
       "      <td>54f0f1c0-dda1-0133-a559-0a81e8b09a82</td>\n",
       "      <td>high</td>\n",
       "      <td>yes</td>\n",
       "      <td>861a9b9151e11362eb3c77ca914172d0</td>\n",
       "    </tr>\n",
       "    <tr>\n",
       "      <th>2</th>\n",
       "      <td>83127080-da3d-0133-c74f-0a81e8b09a82</td>\n",
       "      <td>None</td>\n",
       "      <td>no</td>\n",
       "      <td>None</td>\n",
       "    </tr>\n",
       "    <tr>\n",
       "      <th>3</th>\n",
       "      <td>15626d40-db13-0133-ea5c-0a81e8b09a82</td>\n",
       "      <td>high</td>\n",
       "      <td>yes</td>\n",
       "      <td>049a3f3a2b5f85cb2971ba77ad66e10c</td>\n",
       "    </tr>\n",
       "    <tr>\n",
       "      <th>4</th>\n",
       "      <td>24954a70-db98-0133-4a64-0a81e8b09a82</td>\n",
       "      <td>high</td>\n",
       "      <td>yes</td>\n",
       "      <td>f4b2fb1aa40f661488e2782b6d57ad2f</td>\n",
       "    </tr>\n",
       "    <tr>\n",
       "      <th>...</th>\n",
       "      <td>...</td>\n",
       "      <td>...</td>\n",
       "      <td>...</td>\n",
       "      <td>...</td>\n",
       "    </tr>\n",
       "    <tr>\n",
       "      <th>9644</th>\n",
       "      <td>7d1ac020-dcb4-0133-817a-0a81e8b09a82</td>\n",
       "      <td>high</td>\n",
       "      <td>yes</td>\n",
       "      <td>847165cfda6b1dc82ae22b967da8af2f</td>\n",
       "    </tr>\n",
       "    <tr>\n",
       "      <th>9645</th>\n",
       "      <td>39f989f0-db52-0133-8482-0a81e8b09a82</td>\n",
       "      <td>high</td>\n",
       "      <td>yes</td>\n",
       "      <td>a4d5b8b38f9513825d0d94a981ebe962</td>\n",
       "    </tr>\n",
       "    <tr>\n",
       "      <th>9646</th>\n",
       "      <td>70ce4a90-d965-0133-f5e4-0a81e8b09a82</td>\n",
       "      <td>low</td>\n",
       "      <td>no</td>\n",
       "      <td>None</td>\n",
       "    </tr>\n",
       "    <tr>\n",
       "      <th>9647</th>\n",
       "      <td>2896e440-db3c-0133-5b67-0a81e8b09a82</td>\n",
       "      <td>low</td>\n",
       "      <td>yes</td>\n",
       "      <td>775190277a849cba701b306a7b374c0a</td>\n",
       "    </tr>\n",
       "    <tr>\n",
       "      <th>9648</th>\n",
       "      <td>06217ba0-dd56-0133-edda-0a81e8b09a82</td>\n",
       "      <td>high</td>\n",
       "      <td>yes</td>\n",
       "      <td>8a7a3f1bce0958ae9f090683e5a925b7</td>\n",
       "    </tr>\n",
       "  </tbody>\n",
       "</table>\n",
       "<p>9649 rows × 4 columns</p>\n",
       "</div>"
      ],
      "text/plain": [
       "                                      uuid dem_education_level  \\\n",
       "0     f6e7ee00-deac-0133-4de8-0a81e8b09a82                  no   \n",
       "1     54f0f1c0-dda1-0133-a559-0a81e8b09a82                high   \n",
       "2     83127080-da3d-0133-c74f-0a81e8b09a82                None   \n",
       "3     15626d40-db13-0133-ea5c-0a81e8b09a82                high   \n",
       "4     24954a70-db98-0133-4a64-0a81e8b09a82                high   \n",
       "...                                    ...                 ...   \n",
       "9644  7d1ac020-dcb4-0133-817a-0a81e8b09a82                high   \n",
       "9645  39f989f0-db52-0133-8482-0a81e8b09a82                high   \n",
       "9646  70ce4a90-d965-0133-f5e4-0a81e8b09a82                 low   \n",
       "9647  2896e440-db3c-0133-5b67-0a81e8b09a82                 low   \n",
       "9648  06217ba0-dd56-0133-edda-0a81e8b09a82                high   \n",
       "\n",
       "     dem_full_time_job               normalized_job_code  \n",
       "0                   no                              None  \n",
       "1                  yes  861a9b9151e11362eb3c77ca914172d0  \n",
       "2                   no                              None  \n",
       "3                  yes  049a3f3a2b5f85cb2971ba77ad66e10c  \n",
       "4                  yes  f4b2fb1aa40f661488e2782b6d57ad2f  \n",
       "...                ...                               ...  \n",
       "9644               yes  847165cfda6b1dc82ae22b967da8af2f  \n",
       "9645               yes  a4d5b8b38f9513825d0d94a981ebe962  \n",
       "9646                no                              None  \n",
       "9647               yes  775190277a849cba701b306a7b374c0a  \n",
       "9648               yes  8a7a3f1bce0958ae9f090683e5a925b7  \n",
       "\n",
       "[9649 rows x 4 columns]"
      ]
     },
     "execution_count": 6,
     "metadata": {},
     "output_type": "execute_result"
    }
   ],
   "source": [
    "pd.read_sql_query(\"SELECT * FROM career_info\", engine)"
   ]
  },
  {
   "cell_type": "code",
   "execution_count": 7,
   "metadata": {},
   "outputs": [
    {
     "data": {
      "text/html": [
       "<div>\n",
       "<style scoped>\n",
       "    .dataframe tbody tr th:only-of-type {\n",
       "        vertical-align: middle;\n",
       "    }\n",
       "\n",
       "    .dataframe tbody tr th {\n",
       "        vertical-align: top;\n",
       "    }\n",
       "\n",
       "    .dataframe thead th {\n",
       "        text-align: right;\n",
       "    }\n",
       "</style>\n",
       "<table border=\"1\" class=\"dataframe\">\n",
       "  <thead>\n",
       "    <tr style=\"text-align: right;\">\n",
       "      <th></th>\n",
       "      <th>uuid</th>\n",
       "      <th>question_bbi_2016wave4_basicincome_awareness</th>\n",
       "      <th>question_bbi_2016wave4_basicincome_vote</th>\n",
       "      <th>question_bbi_2016wave4_basicincome_effect</th>\n",
       "      <th>question_bbi_2016wave4_basicincome_argumentsfor</th>\n",
       "      <th>question_bbi_2016wave4_basicincome_argumentsagainst</th>\n",
       "    </tr>\n",
       "  </thead>\n",
       "  <tbody>\n",
       "    <tr>\n",
       "      <th>0</th>\n",
       "      <td>f6e7ee00-deac-0133-4de8-0a81e8b09a82</td>\n",
       "      <td>I know something about it</td>\n",
       "      <td>I would not vote</td>\n",
       "      <td>None of the above</td>\n",
       "      <td>None of the above</td>\n",
       "      <td>None of the above</td>\n",
       "    </tr>\n",
       "    <tr>\n",
       "      <th>1</th>\n",
       "      <td>54f0f1c0-dda1-0133-a559-0a81e8b09a82</td>\n",
       "      <td>I understand it fully</td>\n",
       "      <td>I would probably vote for it</td>\n",
       "      <td>A basic income would not affect my work choices</td>\n",
       "      <td>It increases appreciation for household work a...</td>\n",
       "      <td>It might encourage people to stop working</td>\n",
       "    </tr>\n",
       "    <tr>\n",
       "      <th>2</th>\n",
       "      <td>83127080-da3d-0133-c74f-0a81e8b09a82</td>\n",
       "      <td>I have heard just a little about it</td>\n",
       "      <td>I would not vote</td>\n",
       "      <td>‰Û_ gain additional skills</td>\n",
       "      <td>It creates more equality of opportunity</td>\n",
       "      <td>Foreigners might come to my country and take a...</td>\n",
       "    </tr>\n",
       "    <tr>\n",
       "      <th>3</th>\n",
       "      <td>15626d40-db13-0133-ea5c-0a81e8b09a82</td>\n",
       "      <td>I have heard just a little about it</td>\n",
       "      <td>I would probably vote for it</td>\n",
       "      <td>‰Û_ work less</td>\n",
       "      <td>It reduces anxiety about financing basic needs</td>\n",
       "      <td>None of the above</td>\n",
       "    </tr>\n",
       "    <tr>\n",
       "      <th>4</th>\n",
       "      <td>24954a70-db98-0133-4a64-0a81e8b09a82</td>\n",
       "      <td>I have heard just a little about it</td>\n",
       "      <td>I would probably vote for it</td>\n",
       "      <td>None of the above</td>\n",
       "      <td>It reduces anxiety about financing basic needs</td>\n",
       "      <td>It is impossible to finance | It might encoura...</td>\n",
       "    </tr>\n",
       "    <tr>\n",
       "      <th>...</th>\n",
       "      <td>...</td>\n",
       "      <td>...</td>\n",
       "      <td>...</td>\n",
       "      <td>...</td>\n",
       "      <td>...</td>\n",
       "      <td>...</td>\n",
       "    </tr>\n",
       "    <tr>\n",
       "      <th>9644</th>\n",
       "      <td>7d1ac020-dcb4-0133-817a-0a81e8b09a82</td>\n",
       "      <td>I understand it fully</td>\n",
       "      <td>I would probably vote for it</td>\n",
       "      <td>‰Û_ spend more time with my family</td>\n",
       "      <td>It reduces bureaucracy and administrative expe...</td>\n",
       "      <td>It is impossible to finance</td>\n",
       "    </tr>\n",
       "    <tr>\n",
       "      <th>9645</th>\n",
       "      <td>39f989f0-db52-0133-8482-0a81e8b09a82</td>\n",
       "      <td>I have never heard of it</td>\n",
       "      <td>I would probably vote against it</td>\n",
       "      <td>A basic income would not affect my work choices</td>\n",
       "      <td>It reduces bureaucracy and administrative expe...</td>\n",
       "      <td>It might encourage people to stop working | On...</td>\n",
       "    </tr>\n",
       "    <tr>\n",
       "      <th>9646</th>\n",
       "      <td>70ce4a90-d965-0133-f5e4-0a81e8b09a82</td>\n",
       "      <td>I have heard just a little about it</td>\n",
       "      <td>I would not vote</td>\n",
       "      <td>‰Û_ spend more time with my family</td>\n",
       "      <td>It reduces anxiety about financing basic needs</td>\n",
       "      <td>None of the above</td>\n",
       "    </tr>\n",
       "    <tr>\n",
       "      <th>9647</th>\n",
       "      <td>2896e440-db3c-0133-5b67-0a81e8b09a82</td>\n",
       "      <td>I understand it fully</td>\n",
       "      <td>I would vote for it</td>\n",
       "      <td>A basic income would not affect my work choices</td>\n",
       "      <td>It reduces bureaucracy and administrative expe...</td>\n",
       "      <td>Foreigners might come to my country and take a...</td>\n",
       "    </tr>\n",
       "    <tr>\n",
       "      <th>9648</th>\n",
       "      <td>06217ba0-dd56-0133-edda-0a81e8b09a82</td>\n",
       "      <td>I understand it fully</td>\n",
       "      <td>I would vote against it</td>\n",
       "      <td>A basic income would not affect my work choices</td>\n",
       "      <td>It reduces bureaucracy and administrative expe...</td>\n",
       "      <td>It might encourage people to stop working | It...</td>\n",
       "    </tr>\n",
       "  </tbody>\n",
       "</table>\n",
       "<p>9649 rows × 6 columns</p>\n",
       "</div>"
      ],
      "text/plain": [
       "                                      uuid  \\\n",
       "0     f6e7ee00-deac-0133-4de8-0a81e8b09a82   \n",
       "1     54f0f1c0-dda1-0133-a559-0a81e8b09a82   \n",
       "2     83127080-da3d-0133-c74f-0a81e8b09a82   \n",
       "3     15626d40-db13-0133-ea5c-0a81e8b09a82   \n",
       "4     24954a70-db98-0133-4a64-0a81e8b09a82   \n",
       "...                                    ...   \n",
       "9644  7d1ac020-dcb4-0133-817a-0a81e8b09a82   \n",
       "9645  39f989f0-db52-0133-8482-0a81e8b09a82   \n",
       "9646  70ce4a90-d965-0133-f5e4-0a81e8b09a82   \n",
       "9647  2896e440-db3c-0133-5b67-0a81e8b09a82   \n",
       "9648  06217ba0-dd56-0133-edda-0a81e8b09a82   \n",
       "\n",
       "     question_bbi_2016wave4_basicincome_awareness  \\\n",
       "0                       I know something about it   \n",
       "1                           I understand it fully   \n",
       "2             I have heard just a little about it   \n",
       "3             I have heard just a little about it   \n",
       "4             I have heard just a little about it   \n",
       "...                                           ...   \n",
       "9644                        I understand it fully   \n",
       "9645                     I have never heard of it   \n",
       "9646          I have heard just a little about it   \n",
       "9647                        I understand it fully   \n",
       "9648                        I understand it fully   \n",
       "\n",
       "     question_bbi_2016wave4_basicincome_vote  \\\n",
       "0                           I would not vote   \n",
       "1               I would probably vote for it   \n",
       "2                           I would not vote   \n",
       "3               I would probably vote for it   \n",
       "4               I would probably vote for it   \n",
       "...                                      ...   \n",
       "9644            I would probably vote for it   \n",
       "9645        I would probably vote against it   \n",
       "9646                        I would not vote   \n",
       "9647                     I would vote for it   \n",
       "9648                 I would vote against it   \n",
       "\n",
       "            question_bbi_2016wave4_basicincome_effect  \\\n",
       "0                                   None of the above   \n",
       "1     A basic income would not affect my work choices   \n",
       "2                          ‰Û_ gain additional skills   \n",
       "3                                       ‰Û_ work less   \n",
       "4                                   None of the above   \n",
       "...                                               ...   \n",
       "9644               ‰Û_ spend more time with my family   \n",
       "9645  A basic income would not affect my work choices   \n",
       "9646               ‰Û_ spend more time with my family   \n",
       "9647  A basic income would not affect my work choices   \n",
       "9648  A basic income would not affect my work choices   \n",
       "\n",
       "        question_bbi_2016wave4_basicincome_argumentsfor  \\\n",
       "0                                     None of the above   \n",
       "1     It increases appreciation for household work a...   \n",
       "2               It creates more equality of opportunity   \n",
       "3        It reduces anxiety about financing basic needs   \n",
       "4        It reduces anxiety about financing basic needs   \n",
       "...                                                 ...   \n",
       "9644  It reduces bureaucracy and administrative expe...   \n",
       "9645  It reduces bureaucracy and administrative expe...   \n",
       "9646     It reduces anxiety about financing basic needs   \n",
       "9647  It reduces bureaucracy and administrative expe...   \n",
       "9648  It reduces bureaucracy and administrative expe...   \n",
       "\n",
       "     question_bbi_2016wave4_basicincome_argumentsagainst  \n",
       "0                                     None of the above   \n",
       "1             It might encourage people to stop working   \n",
       "2     Foreigners might come to my country and take a...   \n",
       "3                                     None of the above   \n",
       "4     It is impossible to finance | It might encoura...   \n",
       "...                                                 ...   \n",
       "9644                        It is impossible to finance   \n",
       "9645  It might encourage people to stop working | On...   \n",
       "9646                                  None of the above   \n",
       "9647  Foreigners might come to my country and take a...   \n",
       "9648  It might encourage people to stop working | It...   \n",
       "\n",
       "[9649 rows x 6 columns]"
      ]
     },
     "execution_count": 7,
     "metadata": {},
     "output_type": "execute_result"
    }
   ],
   "source": [
    "pd.read_sql_query(\"SELECT * FROM poll_info\", engine)"
   ]
  },
  {
   "cell_type": "markdown",
   "metadata": {},
   "source": [
    "#### This step is done to JOIN all tables and start building what will be my first full raw dataframe."
   ]
  },
  {
   "cell_type": "code",
   "execution_count": 8,
   "metadata": {},
   "outputs": [],
   "source": [
    "project_m1_full_raw_data = pd.read_sql_query(\n",
    "\"\"\"\n",
    "SELECT * \n",
    "FROM personal_info\n",
    "JOIN career_info\n",
    "ON personal_info.uuid = career_info.uuid\n",
    "JOIN country_info\n",
    "ON country_info.uuid = career_info.uuid\n",
    "JOIN poll_info\n",
    "ON poll_info.uuid = career_info.uuid\"\"\", engine)"
   ]
  },
  {
   "cell_type": "code",
   "execution_count": 9,
   "metadata": {},
   "outputs": [
    {
     "data": {
      "text/html": [
       "<div>\n",
       "<style scoped>\n",
       "    .dataframe tbody tr th:only-of-type {\n",
       "        vertical-align: middle;\n",
       "    }\n",
       "\n",
       "    .dataframe tbody tr th {\n",
       "        vertical-align: top;\n",
       "    }\n",
       "\n",
       "    .dataframe thead th {\n",
       "        text-align: right;\n",
       "    }\n",
       "</style>\n",
       "<table border=\"1\" class=\"dataframe\">\n",
       "  <thead>\n",
       "    <tr style=\"text-align: right;\">\n",
       "      <th></th>\n",
       "      <th>uuid</th>\n",
       "      <th>age</th>\n",
       "      <th>gender</th>\n",
       "      <th>dem_has_children</th>\n",
       "      <th>age_group</th>\n",
       "      <th>uuid</th>\n",
       "      <th>dem_education_level</th>\n",
       "      <th>dem_full_time_job</th>\n",
       "      <th>normalized_job_code</th>\n",
       "      <th>uuid</th>\n",
       "      <th>country_code</th>\n",
       "      <th>rural</th>\n",
       "      <th>uuid</th>\n",
       "      <th>question_bbi_2016wave4_basicincome_awareness</th>\n",
       "      <th>question_bbi_2016wave4_basicincome_vote</th>\n",
       "      <th>question_bbi_2016wave4_basicincome_effect</th>\n",
       "      <th>question_bbi_2016wave4_basicincome_argumentsfor</th>\n",
       "      <th>question_bbi_2016wave4_basicincome_argumentsagainst</th>\n",
       "    </tr>\n",
       "  </thead>\n",
       "  <tbody>\n",
       "    <tr>\n",
       "      <th>0</th>\n",
       "      <td>f6e7ee00-deac-0133-4de8-0a81e8b09a82</td>\n",
       "      <td>61 years old</td>\n",
       "      <td>male</td>\n",
       "      <td>NO</td>\n",
       "      <td>40_65</td>\n",
       "      <td>f6e7ee00-deac-0133-4de8-0a81e8b09a82</td>\n",
       "      <td>no</td>\n",
       "      <td>no</td>\n",
       "      <td>None</td>\n",
       "      <td>f6e7ee00-deac-0133-4de8-0a81e8b09a82</td>\n",
       "      <td>AT</td>\n",
       "      <td>countryside</td>\n",
       "      <td>f6e7ee00-deac-0133-4de8-0a81e8b09a82</td>\n",
       "      <td>I know something about it</td>\n",
       "      <td>I would not vote</td>\n",
       "      <td>None of the above</td>\n",
       "      <td>None of the above</td>\n",
       "      <td>None of the above</td>\n",
       "    </tr>\n",
       "    <tr>\n",
       "      <th>1</th>\n",
       "      <td>54f0f1c0-dda1-0133-a559-0a81e8b09a82</td>\n",
       "      <td>57 years old</td>\n",
       "      <td>male</td>\n",
       "      <td>yES</td>\n",
       "      <td>40_65</td>\n",
       "      <td>54f0f1c0-dda1-0133-a559-0a81e8b09a82</td>\n",
       "      <td>high</td>\n",
       "      <td>yes</td>\n",
       "      <td>861a9b9151e11362eb3c77ca914172d0</td>\n",
       "      <td>54f0f1c0-dda1-0133-a559-0a81e8b09a82</td>\n",
       "      <td>AT</td>\n",
       "      <td>urban</td>\n",
       "      <td>54f0f1c0-dda1-0133-a559-0a81e8b09a82</td>\n",
       "      <td>I understand it fully</td>\n",
       "      <td>I would probably vote for it</td>\n",
       "      <td>A basic income would not affect my work choices</td>\n",
       "      <td>It increases appreciation for household work a...</td>\n",
       "      <td>It might encourage people to stop working</td>\n",
       "    </tr>\n",
       "    <tr>\n",
       "      <th>2</th>\n",
       "      <td>83127080-da3d-0133-c74f-0a81e8b09a82</td>\n",
       "      <td>32 years old</td>\n",
       "      <td>male</td>\n",
       "      <td>nO</td>\n",
       "      <td>26_39</td>\n",
       "      <td>83127080-da3d-0133-c74f-0a81e8b09a82</td>\n",
       "      <td>None</td>\n",
       "      <td>no</td>\n",
       "      <td>None</td>\n",
       "      <td>83127080-da3d-0133-c74f-0a81e8b09a82</td>\n",
       "      <td>AT</td>\n",
       "      <td>city</td>\n",
       "      <td>83127080-da3d-0133-c74f-0a81e8b09a82</td>\n",
       "      <td>I have heard just a little about it</td>\n",
       "      <td>I would not vote</td>\n",
       "      <td>‰Û_ gain additional skills</td>\n",
       "      <td>It creates more equality of opportunity</td>\n",
       "      <td>Foreigners might come to my country and take a...</td>\n",
       "    </tr>\n",
       "    <tr>\n",
       "      <th>3</th>\n",
       "      <td>15626d40-db13-0133-ea5c-0a81e8b09a82</td>\n",
       "      <td>45 years old</td>\n",
       "      <td>Male</td>\n",
       "      <td>YES</td>\n",
       "      <td>40_65</td>\n",
       "      <td>15626d40-db13-0133-ea5c-0a81e8b09a82</td>\n",
       "      <td>high</td>\n",
       "      <td>yes</td>\n",
       "      <td>049a3f3a2b5f85cb2971ba77ad66e10c</td>\n",
       "      <td>15626d40-db13-0133-ea5c-0a81e8b09a82</td>\n",
       "      <td>AT</td>\n",
       "      <td>Country</td>\n",
       "      <td>15626d40-db13-0133-ea5c-0a81e8b09a82</td>\n",
       "      <td>I have heard just a little about it</td>\n",
       "      <td>I would probably vote for it</td>\n",
       "      <td>‰Û_ work less</td>\n",
       "      <td>It reduces anxiety about financing basic needs</td>\n",
       "      <td>None of the above</td>\n",
       "    </tr>\n",
       "    <tr>\n",
       "      <th>4</th>\n",
       "      <td>24954a70-db98-0133-4a64-0a81e8b09a82</td>\n",
       "      <td>41 years old</td>\n",
       "      <td>Fem</td>\n",
       "      <td>yES</td>\n",
       "      <td>40_65</td>\n",
       "      <td>24954a70-db98-0133-4a64-0a81e8b09a82</td>\n",
       "      <td>high</td>\n",
       "      <td>yes</td>\n",
       "      <td>f4b2fb1aa40f661488e2782b6d57ad2f</td>\n",
       "      <td>24954a70-db98-0133-4a64-0a81e8b09a82</td>\n",
       "      <td>AT</td>\n",
       "      <td>city</td>\n",
       "      <td>24954a70-db98-0133-4a64-0a81e8b09a82</td>\n",
       "      <td>I have heard just a little about it</td>\n",
       "      <td>I would probably vote for it</td>\n",
       "      <td>None of the above</td>\n",
       "      <td>It reduces anxiety about financing basic needs</td>\n",
       "      <td>It is impossible to finance | It might encoura...</td>\n",
       "    </tr>\n",
       "    <tr>\n",
       "      <th>...</th>\n",
       "      <td>...</td>\n",
       "      <td>...</td>\n",
       "      <td>...</td>\n",
       "      <td>...</td>\n",
       "      <td>...</td>\n",
       "      <td>...</td>\n",
       "      <td>...</td>\n",
       "      <td>...</td>\n",
       "      <td>...</td>\n",
       "      <td>...</td>\n",
       "      <td>...</td>\n",
       "      <td>...</td>\n",
       "      <td>...</td>\n",
       "      <td>...</td>\n",
       "      <td>...</td>\n",
       "      <td>...</td>\n",
       "      <td>...</td>\n",
       "      <td>...</td>\n",
       "    </tr>\n",
       "    <tr>\n",
       "      <th>9644</th>\n",
       "      <td>7d1ac020-dcb4-0133-817a-0a81e8b09a82</td>\n",
       "      <td>37 years old</td>\n",
       "      <td>FeMale</td>\n",
       "      <td>nO</td>\n",
       "      <td>26_39</td>\n",
       "      <td>7d1ac020-dcb4-0133-817a-0a81e8b09a82</td>\n",
       "      <td>high</td>\n",
       "      <td>yes</td>\n",
       "      <td>847165cfda6b1dc82ae22b967da8af2f</td>\n",
       "      <td>7d1ac020-dcb4-0133-817a-0a81e8b09a82</td>\n",
       "      <td>SK</td>\n",
       "      <td>urban</td>\n",
       "      <td>7d1ac020-dcb4-0133-817a-0a81e8b09a82</td>\n",
       "      <td>I understand it fully</td>\n",
       "      <td>I would probably vote for it</td>\n",
       "      <td>‰Û_ spend more time with my family</td>\n",
       "      <td>It reduces bureaucracy and administrative expe...</td>\n",
       "      <td>It is impossible to finance</td>\n",
       "    </tr>\n",
       "    <tr>\n",
       "      <th>9645</th>\n",
       "      <td>39f989f0-db52-0133-8482-0a81e8b09a82</td>\n",
       "      <td>53 years old</td>\n",
       "      <td>Male</td>\n",
       "      <td>yES</td>\n",
       "      <td>40_65</td>\n",
       "      <td>39f989f0-db52-0133-8482-0a81e8b09a82</td>\n",
       "      <td>high</td>\n",
       "      <td>yes</td>\n",
       "      <td>a4d5b8b38f9513825d0d94a981ebe962</td>\n",
       "      <td>39f989f0-db52-0133-8482-0a81e8b09a82</td>\n",
       "      <td>SK</td>\n",
       "      <td>urban</td>\n",
       "      <td>39f989f0-db52-0133-8482-0a81e8b09a82</td>\n",
       "      <td>I have never heard of it</td>\n",
       "      <td>I would probably vote against it</td>\n",
       "      <td>A basic income would not affect my work choices</td>\n",
       "      <td>It reduces bureaucracy and administrative expe...</td>\n",
       "      <td>It might encourage people to stop working | On...</td>\n",
       "    </tr>\n",
       "    <tr>\n",
       "      <th>9646</th>\n",
       "      <td>70ce4a90-d965-0133-f5e4-0a81e8b09a82</td>\n",
       "      <td>1992</td>\n",
       "      <td>male</td>\n",
       "      <td>NO</td>\n",
       "      <td>juvenile</td>\n",
       "      <td>70ce4a90-d965-0133-f5e4-0a81e8b09a82</td>\n",
       "      <td>low</td>\n",
       "      <td>no</td>\n",
       "      <td>None</td>\n",
       "      <td>70ce4a90-d965-0133-f5e4-0a81e8b09a82</td>\n",
       "      <td>SK</td>\n",
       "      <td>Non-Rural</td>\n",
       "      <td>70ce4a90-d965-0133-f5e4-0a81e8b09a82</td>\n",
       "      <td>I have heard just a little about it</td>\n",
       "      <td>I would not vote</td>\n",
       "      <td>‰Û_ spend more time with my family</td>\n",
       "      <td>It reduces anxiety about financing basic needs</td>\n",
       "      <td>None of the above</td>\n",
       "    </tr>\n",
       "    <tr>\n",
       "      <th>9647</th>\n",
       "      <td>2896e440-db3c-0133-5b67-0a81e8b09a82</td>\n",
       "      <td>47 years old</td>\n",
       "      <td>male</td>\n",
       "      <td>yES</td>\n",
       "      <td>40_65</td>\n",
       "      <td>2896e440-db3c-0133-5b67-0a81e8b09a82</td>\n",
       "      <td>low</td>\n",
       "      <td>yes</td>\n",
       "      <td>775190277a849cba701b306a7b374c0a</td>\n",
       "      <td>2896e440-db3c-0133-5b67-0a81e8b09a82</td>\n",
       "      <td>SK</td>\n",
       "      <td>city</td>\n",
       "      <td>2896e440-db3c-0133-5b67-0a81e8b09a82</td>\n",
       "      <td>I understand it fully</td>\n",
       "      <td>I would vote for it</td>\n",
       "      <td>A basic income would not affect my work choices</td>\n",
       "      <td>It reduces bureaucracy and administrative expe...</td>\n",
       "      <td>Foreigners might come to my country and take a...</td>\n",
       "    </tr>\n",
       "    <tr>\n",
       "      <th>9648</th>\n",
       "      <td>06217ba0-dd56-0133-edda-0a81e8b09a82</td>\n",
       "      <td>51 years old</td>\n",
       "      <td>FeMale</td>\n",
       "      <td>YES</td>\n",
       "      <td>40_65</td>\n",
       "      <td>06217ba0-dd56-0133-edda-0a81e8b09a82</td>\n",
       "      <td>high</td>\n",
       "      <td>yes</td>\n",
       "      <td>8a7a3f1bce0958ae9f090683e5a925b7</td>\n",
       "      <td>06217ba0-dd56-0133-edda-0a81e8b09a82</td>\n",
       "      <td>SK</td>\n",
       "      <td>city</td>\n",
       "      <td>06217ba0-dd56-0133-edda-0a81e8b09a82</td>\n",
       "      <td>I understand it fully</td>\n",
       "      <td>I would vote against it</td>\n",
       "      <td>A basic income would not affect my work choices</td>\n",
       "      <td>It reduces bureaucracy and administrative expe...</td>\n",
       "      <td>It might encourage people to stop working | It...</td>\n",
       "    </tr>\n",
       "  </tbody>\n",
       "</table>\n",
       "<p>9649 rows × 18 columns</p>\n",
       "</div>"
      ],
      "text/plain": [
       "                                      uuid           age  gender  \\\n",
       "0     f6e7ee00-deac-0133-4de8-0a81e8b09a82  61 years old    male   \n",
       "1     54f0f1c0-dda1-0133-a559-0a81e8b09a82  57 years old    male   \n",
       "2     83127080-da3d-0133-c74f-0a81e8b09a82  32 years old    male   \n",
       "3     15626d40-db13-0133-ea5c-0a81e8b09a82  45 years old    Male   \n",
       "4     24954a70-db98-0133-4a64-0a81e8b09a82  41 years old     Fem   \n",
       "...                                    ...           ...     ...   \n",
       "9644  7d1ac020-dcb4-0133-817a-0a81e8b09a82  37 years old  FeMale   \n",
       "9645  39f989f0-db52-0133-8482-0a81e8b09a82  53 years old    Male   \n",
       "9646  70ce4a90-d965-0133-f5e4-0a81e8b09a82          1992    male   \n",
       "9647  2896e440-db3c-0133-5b67-0a81e8b09a82  47 years old    male   \n",
       "9648  06217ba0-dd56-0133-edda-0a81e8b09a82  51 years old  FeMale   \n",
       "\n",
       "     dem_has_children age_group                                  uuid  \\\n",
       "0                  NO     40_65  f6e7ee00-deac-0133-4de8-0a81e8b09a82   \n",
       "1                 yES     40_65  54f0f1c0-dda1-0133-a559-0a81e8b09a82   \n",
       "2                  nO     26_39  83127080-da3d-0133-c74f-0a81e8b09a82   \n",
       "3                 YES     40_65  15626d40-db13-0133-ea5c-0a81e8b09a82   \n",
       "4                 yES     40_65  24954a70-db98-0133-4a64-0a81e8b09a82   \n",
       "...               ...       ...                                   ...   \n",
       "9644               nO     26_39  7d1ac020-dcb4-0133-817a-0a81e8b09a82   \n",
       "9645              yES     40_65  39f989f0-db52-0133-8482-0a81e8b09a82   \n",
       "9646               NO  juvenile  70ce4a90-d965-0133-f5e4-0a81e8b09a82   \n",
       "9647              yES     40_65  2896e440-db3c-0133-5b67-0a81e8b09a82   \n",
       "9648              YES     40_65  06217ba0-dd56-0133-edda-0a81e8b09a82   \n",
       "\n",
       "     dem_education_level dem_full_time_job               normalized_job_code  \\\n",
       "0                     no                no                              None   \n",
       "1                   high               yes  861a9b9151e11362eb3c77ca914172d0   \n",
       "2                   None                no                              None   \n",
       "3                   high               yes  049a3f3a2b5f85cb2971ba77ad66e10c   \n",
       "4                   high               yes  f4b2fb1aa40f661488e2782b6d57ad2f   \n",
       "...                  ...               ...                               ...   \n",
       "9644                high               yes  847165cfda6b1dc82ae22b967da8af2f   \n",
       "9645                high               yes  a4d5b8b38f9513825d0d94a981ebe962   \n",
       "9646                 low                no                              None   \n",
       "9647                 low               yes  775190277a849cba701b306a7b374c0a   \n",
       "9648                high               yes  8a7a3f1bce0958ae9f090683e5a925b7   \n",
       "\n",
       "                                      uuid country_code        rural  \\\n",
       "0     f6e7ee00-deac-0133-4de8-0a81e8b09a82           AT  countryside   \n",
       "1     54f0f1c0-dda1-0133-a559-0a81e8b09a82           AT        urban   \n",
       "2     83127080-da3d-0133-c74f-0a81e8b09a82           AT         city   \n",
       "3     15626d40-db13-0133-ea5c-0a81e8b09a82           AT      Country   \n",
       "4     24954a70-db98-0133-4a64-0a81e8b09a82           AT         city   \n",
       "...                                    ...          ...          ...   \n",
       "9644  7d1ac020-dcb4-0133-817a-0a81e8b09a82           SK        urban   \n",
       "9645  39f989f0-db52-0133-8482-0a81e8b09a82           SK        urban   \n",
       "9646  70ce4a90-d965-0133-f5e4-0a81e8b09a82           SK    Non-Rural   \n",
       "9647  2896e440-db3c-0133-5b67-0a81e8b09a82           SK         city   \n",
       "9648  06217ba0-dd56-0133-edda-0a81e8b09a82           SK         city   \n",
       "\n",
       "                                      uuid  \\\n",
       "0     f6e7ee00-deac-0133-4de8-0a81e8b09a82   \n",
       "1     54f0f1c0-dda1-0133-a559-0a81e8b09a82   \n",
       "2     83127080-da3d-0133-c74f-0a81e8b09a82   \n",
       "3     15626d40-db13-0133-ea5c-0a81e8b09a82   \n",
       "4     24954a70-db98-0133-4a64-0a81e8b09a82   \n",
       "...                                    ...   \n",
       "9644  7d1ac020-dcb4-0133-817a-0a81e8b09a82   \n",
       "9645  39f989f0-db52-0133-8482-0a81e8b09a82   \n",
       "9646  70ce4a90-d965-0133-f5e4-0a81e8b09a82   \n",
       "9647  2896e440-db3c-0133-5b67-0a81e8b09a82   \n",
       "9648  06217ba0-dd56-0133-edda-0a81e8b09a82   \n",
       "\n",
       "     question_bbi_2016wave4_basicincome_awareness  \\\n",
       "0                       I know something about it   \n",
       "1                           I understand it fully   \n",
       "2             I have heard just a little about it   \n",
       "3             I have heard just a little about it   \n",
       "4             I have heard just a little about it   \n",
       "...                                           ...   \n",
       "9644                        I understand it fully   \n",
       "9645                     I have never heard of it   \n",
       "9646          I have heard just a little about it   \n",
       "9647                        I understand it fully   \n",
       "9648                        I understand it fully   \n",
       "\n",
       "     question_bbi_2016wave4_basicincome_vote  \\\n",
       "0                           I would not vote   \n",
       "1               I would probably vote for it   \n",
       "2                           I would not vote   \n",
       "3               I would probably vote for it   \n",
       "4               I would probably vote for it   \n",
       "...                                      ...   \n",
       "9644            I would probably vote for it   \n",
       "9645        I would probably vote against it   \n",
       "9646                        I would not vote   \n",
       "9647                     I would vote for it   \n",
       "9648                 I would vote against it   \n",
       "\n",
       "            question_bbi_2016wave4_basicincome_effect  \\\n",
       "0                                   None of the above   \n",
       "1     A basic income would not affect my work choices   \n",
       "2                          ‰Û_ gain additional skills   \n",
       "3                                       ‰Û_ work less   \n",
       "4                                   None of the above   \n",
       "...                                               ...   \n",
       "9644               ‰Û_ spend more time with my family   \n",
       "9645  A basic income would not affect my work choices   \n",
       "9646               ‰Û_ spend more time with my family   \n",
       "9647  A basic income would not affect my work choices   \n",
       "9648  A basic income would not affect my work choices   \n",
       "\n",
       "        question_bbi_2016wave4_basicincome_argumentsfor  \\\n",
       "0                                     None of the above   \n",
       "1     It increases appreciation for household work a...   \n",
       "2               It creates more equality of opportunity   \n",
       "3        It reduces anxiety about financing basic needs   \n",
       "4        It reduces anxiety about financing basic needs   \n",
       "...                                                 ...   \n",
       "9644  It reduces bureaucracy and administrative expe...   \n",
       "9645  It reduces bureaucracy and administrative expe...   \n",
       "9646     It reduces anxiety about financing basic needs   \n",
       "9647  It reduces bureaucracy and administrative expe...   \n",
       "9648  It reduces bureaucracy and administrative expe...   \n",
       "\n",
       "     question_bbi_2016wave4_basicincome_argumentsagainst  \n",
       "0                                     None of the above   \n",
       "1             It might encourage people to stop working   \n",
       "2     Foreigners might come to my country and take a...   \n",
       "3                                     None of the above   \n",
       "4     It is impossible to finance | It might encoura...   \n",
       "...                                                 ...   \n",
       "9644                        It is impossible to finance   \n",
       "9645  It might encourage people to stop working | On...   \n",
       "9646                                  None of the above   \n",
       "9647  Foreigners might come to my country and take a...   \n",
       "9648  It might encourage people to stop working | It...   \n",
       "\n",
       "[9649 rows x 18 columns]"
      ]
     },
     "execution_count": 9,
     "metadata": {},
     "output_type": "execute_result"
    }
   ],
   "source": [
    "project_m1_full_raw_data"
   ]
  },
  {
   "cell_type": "code",
   "execution_count": 10,
   "metadata": {},
   "outputs": [
    {
     "data": {
      "text/plain": [
       "pandas.core.frame.DataFrame"
      ]
     },
     "execution_count": 10,
     "metadata": {},
     "output_type": "execute_result"
    }
   ],
   "source": [
    "type(project_m1_full_raw_data)"
   ]
  },
  {
   "cell_type": "markdown",
   "metadata": {},
   "source": [
    "#### As we can see, the 'uuid' column used to JOIN is beign repeated.\n",
    "#### We will try to eliminate the duplicates and keep just one."
   ]
  },
  {
   "cell_type": "code",
   "execution_count": 11,
   "metadata": {},
   "outputs": [
    {
     "data": {
      "text/plain": [
       "Index(['uuid', 'age', 'gender', 'dem_has_children', 'age_group',\n",
       "       'dem_education_level', 'dem_full_time_job', 'normalized_job_code',\n",
       "       'country_code', 'rural', 'question_bbi_2016wave4_basicincome_awareness',\n",
       "       'question_bbi_2016wave4_basicincome_vote',\n",
       "       'question_bbi_2016wave4_basicincome_effect',\n",
       "       'question_bbi_2016wave4_basicincome_argumentsfor',\n",
       "       'question_bbi_2016wave4_basicincome_argumentsagainst'],\n",
       "      dtype='object')"
      ]
     },
     "execution_count": 11,
     "metadata": {},
     "output_type": "execute_result"
    }
   ],
   "source": [
    "project_m1_full_raw_data.columns.unique()"
   ]
  },
  {
   "cell_type": "code",
   "execution_count": 12,
   "metadata": {},
   "outputs": [],
   "source": [
    "project_m1_data = project_m1_full_raw_data[['uuid', 'age', 'gender', 'dem_has_children', 'age_group',\n",
    "       'dem_education_level', 'dem_full_time_job', 'normalized_job_code',\n",
    "       'country_code', 'rural', 'question_bbi_2016wave4_basicincome_awareness',\n",
    "       'question_bbi_2016wave4_basicincome_vote',\n",
    "       'question_bbi_2016wave4_basicincome_effect',\n",
    "       'question_bbi_2016wave4_basicincome_argumentsfor',\n",
    "       'question_bbi_2016wave4_basicincome_argumentsagainst']]"
   ]
  },
  {
   "cell_type": "code",
   "execution_count": 13,
   "metadata": {},
   "outputs": [
    {
     "data": {
      "text/html": [
       "<div>\n",
       "<style scoped>\n",
       "    .dataframe tbody tr th:only-of-type {\n",
       "        vertical-align: middle;\n",
       "    }\n",
       "\n",
       "    .dataframe tbody tr th {\n",
       "        vertical-align: top;\n",
       "    }\n",
       "\n",
       "    .dataframe thead th {\n",
       "        text-align: right;\n",
       "    }\n",
       "</style>\n",
       "<table border=\"1\" class=\"dataframe\">\n",
       "  <thead>\n",
       "    <tr style=\"text-align: right;\">\n",
       "      <th></th>\n",
       "      <th>uuid</th>\n",
       "      <th>age</th>\n",
       "      <th>gender</th>\n",
       "      <th>dem_has_children</th>\n",
       "      <th>age_group</th>\n",
       "      <th>dem_education_level</th>\n",
       "      <th>dem_full_time_job</th>\n",
       "      <th>normalized_job_code</th>\n",
       "      <th>country_code</th>\n",
       "      <th>rural</th>\n",
       "      <th>question_bbi_2016wave4_basicincome_awareness</th>\n",
       "      <th>question_bbi_2016wave4_basicincome_vote</th>\n",
       "      <th>question_bbi_2016wave4_basicincome_effect</th>\n",
       "      <th>question_bbi_2016wave4_basicincome_argumentsfor</th>\n",
       "      <th>question_bbi_2016wave4_basicincome_argumentsagainst</th>\n",
       "    </tr>\n",
       "  </thead>\n",
       "  <tbody>\n",
       "    <tr>\n",
       "      <th>0</th>\n",
       "      <td>f6e7ee00-deac-0133-4de8-0a81e8b09a82</td>\n",
       "      <td>61 years old</td>\n",
       "      <td>male</td>\n",
       "      <td>NO</td>\n",
       "      <td>40_65</td>\n",
       "      <td>no</td>\n",
       "      <td>no</td>\n",
       "      <td>None</td>\n",
       "      <td>AT</td>\n",
       "      <td>countryside</td>\n",
       "      <td>I know something about it</td>\n",
       "      <td>I would not vote</td>\n",
       "      <td>None of the above</td>\n",
       "      <td>None of the above</td>\n",
       "      <td>None of the above</td>\n",
       "    </tr>\n",
       "    <tr>\n",
       "      <th>1</th>\n",
       "      <td>54f0f1c0-dda1-0133-a559-0a81e8b09a82</td>\n",
       "      <td>57 years old</td>\n",
       "      <td>male</td>\n",
       "      <td>yES</td>\n",
       "      <td>40_65</td>\n",
       "      <td>high</td>\n",
       "      <td>yes</td>\n",
       "      <td>861a9b9151e11362eb3c77ca914172d0</td>\n",
       "      <td>AT</td>\n",
       "      <td>urban</td>\n",
       "      <td>I understand it fully</td>\n",
       "      <td>I would probably vote for it</td>\n",
       "      <td>A basic income would not affect my work choices</td>\n",
       "      <td>It increases appreciation for household work a...</td>\n",
       "      <td>It might encourage people to stop working</td>\n",
       "    </tr>\n",
       "    <tr>\n",
       "      <th>2</th>\n",
       "      <td>83127080-da3d-0133-c74f-0a81e8b09a82</td>\n",
       "      <td>32 years old</td>\n",
       "      <td>male</td>\n",
       "      <td>nO</td>\n",
       "      <td>26_39</td>\n",
       "      <td>None</td>\n",
       "      <td>no</td>\n",
       "      <td>None</td>\n",
       "      <td>AT</td>\n",
       "      <td>city</td>\n",
       "      <td>I have heard just a little about it</td>\n",
       "      <td>I would not vote</td>\n",
       "      <td>‰Û_ gain additional skills</td>\n",
       "      <td>It creates more equality of opportunity</td>\n",
       "      <td>Foreigners might come to my country and take a...</td>\n",
       "    </tr>\n",
       "    <tr>\n",
       "      <th>3</th>\n",
       "      <td>15626d40-db13-0133-ea5c-0a81e8b09a82</td>\n",
       "      <td>45 years old</td>\n",
       "      <td>Male</td>\n",
       "      <td>YES</td>\n",
       "      <td>40_65</td>\n",
       "      <td>high</td>\n",
       "      <td>yes</td>\n",
       "      <td>049a3f3a2b5f85cb2971ba77ad66e10c</td>\n",
       "      <td>AT</td>\n",
       "      <td>Country</td>\n",
       "      <td>I have heard just a little about it</td>\n",
       "      <td>I would probably vote for it</td>\n",
       "      <td>‰Û_ work less</td>\n",
       "      <td>It reduces anxiety about financing basic needs</td>\n",
       "      <td>None of the above</td>\n",
       "    </tr>\n",
       "    <tr>\n",
       "      <th>4</th>\n",
       "      <td>24954a70-db98-0133-4a64-0a81e8b09a82</td>\n",
       "      <td>41 years old</td>\n",
       "      <td>Fem</td>\n",
       "      <td>yES</td>\n",
       "      <td>40_65</td>\n",
       "      <td>high</td>\n",
       "      <td>yes</td>\n",
       "      <td>f4b2fb1aa40f661488e2782b6d57ad2f</td>\n",
       "      <td>AT</td>\n",
       "      <td>city</td>\n",
       "      <td>I have heard just a little about it</td>\n",
       "      <td>I would probably vote for it</td>\n",
       "      <td>None of the above</td>\n",
       "      <td>It reduces anxiety about financing basic needs</td>\n",
       "      <td>It is impossible to finance | It might encoura...</td>\n",
       "    </tr>\n",
       "    <tr>\n",
       "      <th>...</th>\n",
       "      <td>...</td>\n",
       "      <td>...</td>\n",
       "      <td>...</td>\n",
       "      <td>...</td>\n",
       "      <td>...</td>\n",
       "      <td>...</td>\n",
       "      <td>...</td>\n",
       "      <td>...</td>\n",
       "      <td>...</td>\n",
       "      <td>...</td>\n",
       "      <td>...</td>\n",
       "      <td>...</td>\n",
       "      <td>...</td>\n",
       "      <td>...</td>\n",
       "      <td>...</td>\n",
       "    </tr>\n",
       "    <tr>\n",
       "      <th>9644</th>\n",
       "      <td>7d1ac020-dcb4-0133-817a-0a81e8b09a82</td>\n",
       "      <td>37 years old</td>\n",
       "      <td>FeMale</td>\n",
       "      <td>nO</td>\n",
       "      <td>26_39</td>\n",
       "      <td>high</td>\n",
       "      <td>yes</td>\n",
       "      <td>847165cfda6b1dc82ae22b967da8af2f</td>\n",
       "      <td>SK</td>\n",
       "      <td>urban</td>\n",
       "      <td>I understand it fully</td>\n",
       "      <td>I would probably vote for it</td>\n",
       "      <td>‰Û_ spend more time with my family</td>\n",
       "      <td>It reduces bureaucracy and administrative expe...</td>\n",
       "      <td>It is impossible to finance</td>\n",
       "    </tr>\n",
       "    <tr>\n",
       "      <th>9645</th>\n",
       "      <td>39f989f0-db52-0133-8482-0a81e8b09a82</td>\n",
       "      <td>53 years old</td>\n",
       "      <td>Male</td>\n",
       "      <td>yES</td>\n",
       "      <td>40_65</td>\n",
       "      <td>high</td>\n",
       "      <td>yes</td>\n",
       "      <td>a4d5b8b38f9513825d0d94a981ebe962</td>\n",
       "      <td>SK</td>\n",
       "      <td>urban</td>\n",
       "      <td>I have never heard of it</td>\n",
       "      <td>I would probably vote against it</td>\n",
       "      <td>A basic income would not affect my work choices</td>\n",
       "      <td>It reduces bureaucracy and administrative expe...</td>\n",
       "      <td>It might encourage people to stop working | On...</td>\n",
       "    </tr>\n",
       "    <tr>\n",
       "      <th>9646</th>\n",
       "      <td>70ce4a90-d965-0133-f5e4-0a81e8b09a82</td>\n",
       "      <td>1992</td>\n",
       "      <td>male</td>\n",
       "      <td>NO</td>\n",
       "      <td>juvenile</td>\n",
       "      <td>low</td>\n",
       "      <td>no</td>\n",
       "      <td>None</td>\n",
       "      <td>SK</td>\n",
       "      <td>Non-Rural</td>\n",
       "      <td>I have heard just a little about it</td>\n",
       "      <td>I would not vote</td>\n",
       "      <td>‰Û_ spend more time with my family</td>\n",
       "      <td>It reduces anxiety about financing basic needs</td>\n",
       "      <td>None of the above</td>\n",
       "    </tr>\n",
       "    <tr>\n",
       "      <th>9647</th>\n",
       "      <td>2896e440-db3c-0133-5b67-0a81e8b09a82</td>\n",
       "      <td>47 years old</td>\n",
       "      <td>male</td>\n",
       "      <td>yES</td>\n",
       "      <td>40_65</td>\n",
       "      <td>low</td>\n",
       "      <td>yes</td>\n",
       "      <td>775190277a849cba701b306a7b374c0a</td>\n",
       "      <td>SK</td>\n",
       "      <td>city</td>\n",
       "      <td>I understand it fully</td>\n",
       "      <td>I would vote for it</td>\n",
       "      <td>A basic income would not affect my work choices</td>\n",
       "      <td>It reduces bureaucracy and administrative expe...</td>\n",
       "      <td>Foreigners might come to my country and take a...</td>\n",
       "    </tr>\n",
       "    <tr>\n",
       "      <th>9648</th>\n",
       "      <td>06217ba0-dd56-0133-edda-0a81e8b09a82</td>\n",
       "      <td>51 years old</td>\n",
       "      <td>FeMale</td>\n",
       "      <td>YES</td>\n",
       "      <td>40_65</td>\n",
       "      <td>high</td>\n",
       "      <td>yes</td>\n",
       "      <td>8a7a3f1bce0958ae9f090683e5a925b7</td>\n",
       "      <td>SK</td>\n",
       "      <td>city</td>\n",
       "      <td>I understand it fully</td>\n",
       "      <td>I would vote against it</td>\n",
       "      <td>A basic income would not affect my work choices</td>\n",
       "      <td>It reduces bureaucracy and administrative expe...</td>\n",
       "      <td>It might encourage people to stop working | It...</td>\n",
       "    </tr>\n",
       "  </tbody>\n",
       "</table>\n",
       "<p>9649 rows × 15 columns</p>\n",
       "</div>"
      ],
      "text/plain": [
       "                                      uuid           age  gender  \\\n",
       "0     f6e7ee00-deac-0133-4de8-0a81e8b09a82  61 years old    male   \n",
       "1     54f0f1c0-dda1-0133-a559-0a81e8b09a82  57 years old    male   \n",
       "2     83127080-da3d-0133-c74f-0a81e8b09a82  32 years old    male   \n",
       "3     15626d40-db13-0133-ea5c-0a81e8b09a82  45 years old    Male   \n",
       "4     24954a70-db98-0133-4a64-0a81e8b09a82  41 years old     Fem   \n",
       "...                                    ...           ...     ...   \n",
       "9644  7d1ac020-dcb4-0133-817a-0a81e8b09a82  37 years old  FeMale   \n",
       "9645  39f989f0-db52-0133-8482-0a81e8b09a82  53 years old    Male   \n",
       "9646  70ce4a90-d965-0133-f5e4-0a81e8b09a82          1992    male   \n",
       "9647  2896e440-db3c-0133-5b67-0a81e8b09a82  47 years old    male   \n",
       "9648  06217ba0-dd56-0133-edda-0a81e8b09a82  51 years old  FeMale   \n",
       "\n",
       "     dem_has_children age_group dem_education_level dem_full_time_job  \\\n",
       "0                  NO     40_65                  no                no   \n",
       "1                 yES     40_65                high               yes   \n",
       "2                  nO     26_39                None                no   \n",
       "3                 YES     40_65                high               yes   \n",
       "4                 yES     40_65                high               yes   \n",
       "...               ...       ...                 ...               ...   \n",
       "9644               nO     26_39                high               yes   \n",
       "9645              yES     40_65                high               yes   \n",
       "9646               NO  juvenile                 low                no   \n",
       "9647              yES     40_65                 low               yes   \n",
       "9648              YES     40_65                high               yes   \n",
       "\n",
       "                   normalized_job_code country_code        rural  \\\n",
       "0                                 None           AT  countryside   \n",
       "1     861a9b9151e11362eb3c77ca914172d0           AT        urban   \n",
       "2                                 None           AT         city   \n",
       "3     049a3f3a2b5f85cb2971ba77ad66e10c           AT      Country   \n",
       "4     f4b2fb1aa40f661488e2782b6d57ad2f           AT         city   \n",
       "...                                ...          ...          ...   \n",
       "9644  847165cfda6b1dc82ae22b967da8af2f           SK        urban   \n",
       "9645  a4d5b8b38f9513825d0d94a981ebe962           SK        urban   \n",
       "9646                              None           SK    Non-Rural   \n",
       "9647  775190277a849cba701b306a7b374c0a           SK         city   \n",
       "9648  8a7a3f1bce0958ae9f090683e5a925b7           SK         city   \n",
       "\n",
       "     question_bbi_2016wave4_basicincome_awareness  \\\n",
       "0                       I know something about it   \n",
       "1                           I understand it fully   \n",
       "2             I have heard just a little about it   \n",
       "3             I have heard just a little about it   \n",
       "4             I have heard just a little about it   \n",
       "...                                           ...   \n",
       "9644                        I understand it fully   \n",
       "9645                     I have never heard of it   \n",
       "9646          I have heard just a little about it   \n",
       "9647                        I understand it fully   \n",
       "9648                        I understand it fully   \n",
       "\n",
       "     question_bbi_2016wave4_basicincome_vote  \\\n",
       "0                           I would not vote   \n",
       "1               I would probably vote for it   \n",
       "2                           I would not vote   \n",
       "3               I would probably vote for it   \n",
       "4               I would probably vote for it   \n",
       "...                                      ...   \n",
       "9644            I would probably vote for it   \n",
       "9645        I would probably vote against it   \n",
       "9646                        I would not vote   \n",
       "9647                     I would vote for it   \n",
       "9648                 I would vote against it   \n",
       "\n",
       "            question_bbi_2016wave4_basicincome_effect  \\\n",
       "0                                   None of the above   \n",
       "1     A basic income would not affect my work choices   \n",
       "2                          ‰Û_ gain additional skills   \n",
       "3                                       ‰Û_ work less   \n",
       "4                                   None of the above   \n",
       "...                                               ...   \n",
       "9644               ‰Û_ spend more time with my family   \n",
       "9645  A basic income would not affect my work choices   \n",
       "9646               ‰Û_ spend more time with my family   \n",
       "9647  A basic income would not affect my work choices   \n",
       "9648  A basic income would not affect my work choices   \n",
       "\n",
       "        question_bbi_2016wave4_basicincome_argumentsfor  \\\n",
       "0                                     None of the above   \n",
       "1     It increases appreciation for household work a...   \n",
       "2               It creates more equality of opportunity   \n",
       "3        It reduces anxiety about financing basic needs   \n",
       "4        It reduces anxiety about financing basic needs   \n",
       "...                                                 ...   \n",
       "9644  It reduces bureaucracy and administrative expe...   \n",
       "9645  It reduces bureaucracy and administrative expe...   \n",
       "9646     It reduces anxiety about financing basic needs   \n",
       "9647  It reduces bureaucracy and administrative expe...   \n",
       "9648  It reduces bureaucracy and administrative expe...   \n",
       "\n",
       "     question_bbi_2016wave4_basicincome_argumentsagainst  \n",
       "0                                     None of the above   \n",
       "1             It might encourage people to stop working   \n",
       "2     Foreigners might come to my country and take a...   \n",
       "3                                     None of the above   \n",
       "4     It is impossible to finance | It might encoura...   \n",
       "...                                                 ...   \n",
       "9644                        It is impossible to finance   \n",
       "9645  It might encourage people to stop working | On...   \n",
       "9646                                  None of the above   \n",
       "9647  Foreigners might come to my country and take a...   \n",
       "9648  It might encourage people to stop working | It...   \n",
       "\n",
       "[9649 rows x 15 columns]"
      ]
     },
     "execution_count": 13,
     "metadata": {},
     "output_type": "execute_result"
    }
   ],
   "source": [
    "project_m1_data = project_m1_data.loc[:,~project_m1_data.columns.duplicated()]\n",
    "\n",
    "project_m1_data"
   ]
  },
  {
   "cell_type": "markdown",
   "metadata": {},
   "source": [
    "#### The .unique() method allows me to explore the values inside a column to define a cleaning strategy."
   ]
  },
  {
   "cell_type": "code",
   "execution_count": 14,
   "metadata": {},
   "outputs": [
    {
     "data": {
      "text/plain": [
       "array(['male', 'Male', 'Fem', 'FeMale', 'female'], dtype=object)"
      ]
     },
     "execution_count": 14,
     "metadata": {},
     "output_type": "execute_result"
    }
   ],
   "source": [
    "project_m1_data['gender'].unique()"
   ]
  },
  {
   "cell_type": "markdown",
   "metadata": {},
   "source": [
    "#### Because there is a low quantity of distinc values, it's easy to identify the ones that need to be corrected and use the .replace() method to clean the inconsistent ones."
   ]
  },
  {
   "cell_type": "code",
   "execution_count": 15,
   "metadata": {},
   "outputs": [],
   "source": [
    "project_m1_data['gender'].replace(to_replace = \"male\", value =\"Male\", inplace = True)"
   ]
  },
  {
   "cell_type": "code",
   "execution_count": 16,
   "metadata": {},
   "outputs": [],
   "source": [
    "project_m1_data['gender'].replace(to_replace =[\"Fem\", \"FeMale\", \"female\"], value =\"Female\", inplace = True)"
   ]
  },
  {
   "cell_type": "code",
   "execution_count": 17,
   "metadata": {},
   "outputs": [
    {
     "data": {
      "text/plain": [
       "array(['Male', 'Female'], dtype=object)"
      ]
     },
     "execution_count": 17,
     "metadata": {},
     "output_type": "execute_result"
    }
   ],
   "source": [
    "project_m1_data['gender'].unique()"
   ]
  },
  {
   "cell_type": "code",
   "execution_count": 18,
   "metadata": {},
   "outputs": [
    {
     "name": "stdout",
     "output_type": "stream",
     "text": [
      "['61 years old', '57 years old', '32 years old', '45 years old', '41 years old', '1990', '47 years old', '34 years old', '1994', '49 years old', '58 years old', '1991', '40 years old', '37 years old', '48 years old', '31 years old', '1999', '1989', '2001', '35 years old', '51 years old', '1988', '42 years old', '33 years old', '64 years old', '38 years old', '55 years old', '1992', '1993', '36 years old', '46 years old', '1998', '44 years old', '1996', '65 years old', '1995', '52 years old', '2002', '50 years old', '1997', '43 years old', '1987', '1986', '39 years old', '53 years old', '62 years old', '2000', '54 years old', '56 years old', '59 years old', '60 years old', '63 years old']\n"
     ]
    }
   ],
   "source": [
    "print(project_m1_data['age'].unique().tolist())"
   ]
  },
  {
   "cell_type": "markdown",
   "metadata": {},
   "source": [
    "#### For this next step, regex proves useful to eliminate the unwanted part of the strings."
   ]
  },
  {
   "cell_type": "code",
   "execution_count": 19,
   "metadata": {},
   "outputs": [],
   "source": [
    "project_m1_cleaned_data = project_m1_data.replace(to_replace=' years old', value='', regex = True)"
   ]
  },
  {
   "cell_type": "code",
   "execution_count": 20,
   "metadata": {},
   "outputs": [
    {
     "name": "stdout",
     "output_type": "stream",
     "text": [
      "['61' '57' '32' '45' '41' '1990' '47' '34' '1994' '49' '58' '1991' '40'\n",
      " '37' '48' '31' '1999' '1989' '2001' '35' '51' '1988' '42' '33' '64' '38'\n",
      " '55' '1992' '1993' '36' '46' '1998' '44' '1996' '65' '1995' '52' '2002'\n",
      " '50' '1997' '43' '1987' '1986' '39' '53' '62' '2000' '54' '56' '59' '60'\n",
      " '63']\n"
     ]
    }
   ],
   "source": [
    "print(project_m1_cleaned_data['age'].unique())"
   ]
  },
  {
   "cell_type": "code",
   "execution_count": 21,
   "metadata": {},
   "outputs": [
    {
     "data": {
      "text/plain": [
       "4"
      ]
     },
     "execution_count": 21,
     "metadata": {},
     "output_type": "execute_result"
    }
   ],
   "source": [
    "len(project_m1_cleaned_data['age'][5])"
   ]
  },
  {
   "cell_type": "markdown",
   "metadata": {},
   "source": [
    "#### I believe some string values appear to be the \"YEAR OF BIRTH\". I will substitute them by calculating age by year 2016.\n",
    "\n",
    "- The number string will need to be converted to interger to support calculation."
   ]
  },
  {
   "cell_type": "code",
   "execution_count": 22,
   "metadata": {},
   "outputs": [],
   "source": [
    "project_m1_cleaned_data['age'] = project_m1_cleaned_data['age'].apply(lambda x: 2016 - int(x) if len(x) == 4 else x)"
   ]
  },
  {
   "cell_type": "code",
   "execution_count": 23,
   "metadata": {},
   "outputs": [
    {
     "name": "stdout",
     "output_type": "stream",
     "text": [
      "['61' '57' '32' '45' '41' 26 '47' '34' 22 '49' '58' 25 '40' '37' '48' '31'\n",
      " 17 27 15 '35' '51' 28 '42' '33' '64' '38' '55' 24 23 '36' '46' 18 '44' 20\n",
      " '65' 21 '52' 14 '50' 19 '43' 29 30 '39' '53' '62' 16 '54' '56' '59' '60'\n",
      " '63']\n"
     ]
    }
   ],
   "source": [
    "print(project_m1_cleaned_data['age'].unique())"
   ]
  },
  {
   "cell_type": "markdown",
   "metadata": {},
   "source": [
    "- I believe it's more convenient to convert this column to type interger/numeric because it will support more numeric operations and provide more information."
   ]
  },
  {
   "cell_type": "code",
   "execution_count": 24,
   "metadata": {},
   "outputs": [],
   "source": [
    "project_m1_cleaned_data['age'] = project_m1_cleaned_data['age'].astype(int)"
   ]
  },
  {
   "cell_type": "code",
   "execution_count": 25,
   "metadata": {},
   "outputs": [
    {
     "name": "stdout",
     "output_type": "stream",
     "text": [
      "[61 57 32 45 41 26 47 34 22 49 58 25 40 37 48 31 17 27 15 35 51 28 42 33\n",
      " 64 38 55 24 23 36 46 18 44 20 65 21 52 14 50 19 43 29 30 39 53 62 16 54\n",
      " 56 59 60 63]\n"
     ]
    }
   ],
   "source": [
    "print(project_m1_cleaned_data['age'].unique())"
   ]
  },
  {
   "cell_type": "markdown",
   "metadata": {},
   "source": [
    "#### There are inconsistencies in the use of uppercase/lowercase size of characters on column ['dem_has_children'].\n",
    "- Values will be made uppercase for consistency."
   ]
  },
  {
   "cell_type": "code",
   "execution_count": 26,
   "metadata": {},
   "outputs": [],
   "source": [
    "project_m1_cleaned_data['dem_has_children'] = project_m1_data['dem_has_children'].str.upper()"
   ]
  },
  {
   "cell_type": "code",
   "execution_count": 27,
   "metadata": {},
   "outputs": [
    {
     "data": {
      "text/plain": [
       "array(['40_65', '26_39', 'juvenile', '14_25'], dtype=object)"
      ]
     },
     "execution_count": 27,
     "metadata": {},
     "output_type": "execute_result"
    }
   ],
   "source": [
    "project_m1_data['age_group'].unique()"
   ]
  },
  {
   "cell_type": "markdown",
   "metadata": {},
   "source": [
    "#### Looking at the unique values in ['age_group'] we detect one inconsistent one.\n",
    "- By looking closer to the data I realized that all age values associated to 'juvenile' are inside the '14_25' range and should be placed in this bin."
   ]
  },
  {
   "cell_type": "code",
   "execution_count": 28,
   "metadata": {},
   "outputs": [
    {
     "data": {
      "text/plain": [
       "array([22, 17, 24, 20, 25, 14, 19, 23, 15, 16, 18, 21])"
      ]
     },
     "execution_count": 28,
     "metadata": {},
     "output_type": "execute_result"
    }
   ],
   "source": [
    "juvenile = project_m1_cleaned_data[project_m1_cleaned_data['age_group'] == 'juvenile']\n",
    "\n",
    "juvenile['age'].unique()"
   ]
  },
  {
   "cell_type": "code",
   "execution_count": 29,
   "metadata": {},
   "outputs": [
    {
     "data": {
      "text/plain": [
       "array(['40_65', '26_39', '14_25'], dtype=object)"
      ]
     },
     "execution_count": 29,
     "metadata": {},
     "output_type": "execute_result"
    }
   ],
   "source": [
    "project_m1_cleaned_data['age_group'] = project_m1_data['age_group'].replace(to_replace = \"juvenile\", value =\"14_25\")\n",
    "\n",
    "project_m1_cleaned_data['age_group'].unique()"
   ]
  },
  {
   "cell_type": "markdown",
   "metadata": {},
   "source": [
    "- To make sure values were placed correctly in each bin, I created a filter for each one and doubled checked numbers."
   ]
  },
  {
   "cell_type": "code",
   "execution_count": 30,
   "metadata": {},
   "outputs": [
    {
     "name": "stdout",
     "output_type": "stream",
     "text": [
      "bin_14_25 = [22 25 17 15 24 23 18 20 21 14 19 16]\n",
      "bin_26_39 =  [32 26 34 37 31 27 35 28 33 38 36 29 30 39]\n",
      "bin_40_65 =  [61 57 45 41 47 49 58 40 48 51 42 64 55 46 44 65 52 50 43 53 62 54 56 59\n",
      " 60 63]\n"
     ]
    }
   ],
   "source": [
    "bin_14_25 = project_m1_cleaned_data[project_m1_cleaned_data['age_group'] == '14_25']\n",
    "\n",
    "bin_26_39 = project_m1_cleaned_data[project_m1_cleaned_data['age_group'] == '26_39']\n",
    "\n",
    "bin_40_65 = project_m1_cleaned_data[project_m1_cleaned_data['age_group'] == '40_65']\n",
    "\n",
    "print('bin_14_25 =', bin_14_25['age'].unique())\n",
    "print('bin_26_39 = ', bin_26_39['age'].unique())\n",
    "print('bin_40_65 = ', bin_40_65['age'].unique())"
   ]
  },
  {
   "cell_type": "code",
   "execution_count": 31,
   "metadata": {},
   "outputs": [
    {
     "data": {
      "text/plain": [
       "array(['no', 'yes'], dtype=object)"
      ]
     },
     "execution_count": 31,
     "metadata": {},
     "output_type": "execute_result"
    }
   ],
   "source": [
    "project_m1_data['dem_full_time_job'].unique()"
   ]
  },
  {
   "cell_type": "code",
   "execution_count": 32,
   "metadata": {},
   "outputs": [],
   "source": [
    "project_m1_cleaned_data['dem_full_time_job'] = project_m1_data['dem_full_time_job'].str.upper()"
   ]
  },
  {
   "cell_type": "markdown",
   "metadata": {},
   "source": [
    "#### For the ['rural'] column I think it should be ok to consolidate for only two values: 'urban' or 'rural'.\n",
    "- rural = rural + countryside + Country\n",
    "- urban = urban + city + Non-Rural"
   ]
  },
  {
   "cell_type": "code",
   "execution_count": 33,
   "metadata": {},
   "outputs": [
    {
     "data": {
      "text/plain": [
       "array(['countryside', 'urban', 'city', 'Country', 'rural', 'Non-Rural'],\n",
       "      dtype=object)"
      ]
     },
     "execution_count": 33,
     "metadata": {},
     "output_type": "execute_result"
    }
   ],
   "source": [
    "project_m1_data['rural'].unique()"
   ]
  },
  {
   "cell_type": "markdown",
   "metadata": {},
   "source": [
    "#### The data shows most of the people live in \"urban/city\" vs. \"rural/countryside\", and this is expected."
   ]
  },
  {
   "cell_type": "code",
   "execution_count": 34,
   "metadata": {},
   "outputs": [
    {
     "data": {
      "text/plain": [
       "urban          3842\n",
       "city           1664\n",
       "rural          1517\n",
       "Non-Rural      1372\n",
       "Country         772\n",
       "countryside     482\n",
       "Name: rural, dtype: int64"
      ]
     },
     "execution_count": 34,
     "metadata": {},
     "output_type": "execute_result"
    }
   ],
   "source": [
    "project_m1_data['rural'].value_counts()"
   ]
  },
  {
   "cell_type": "code",
   "execution_count": 35,
   "metadata": {},
   "outputs": [],
   "source": [
    "project_m1_data['rural'].replace(to_replace =[\"countryside\", \"Country\"], value =\"rural\", inplace = True)\n",
    "project_m1_data['rural'].replace(to_replace =[\"city\", \"Non-Rural\"], value =\"urban\", inplace = True)"
   ]
  },
  {
   "cell_type": "code",
   "execution_count": 36,
   "metadata": {},
   "outputs": [
    {
     "data": {
      "text/plain": [
       "urban    6878\n",
       "rural    2771\n",
       "Name: rural, dtype: int64"
      ]
     },
     "execution_count": 36,
     "metadata": {},
     "output_type": "execute_result"
    }
   ],
   "source": [
    "project_m1_data['rural'].value_counts()"
   ]
  },
  {
   "cell_type": "code",
   "execution_count": 37,
   "metadata": {},
   "outputs": [],
   "source": [
    "project_m1_cleaned_data['rural'] = project_m1_data['rural']"
   ]
  },
  {
   "cell_type": "code",
   "execution_count": 38,
   "metadata": {},
   "outputs": [
    {
     "data": {
      "text/plain": [
       "array(['rural', 'urban'], dtype=object)"
      ]
     },
     "execution_count": 38,
     "metadata": {},
     "output_type": "execute_result"
    }
   ],
   "source": [
    "project_m1_cleaned_data['rural'].unique()"
   ]
  },
  {
   "cell_type": "markdown",
   "metadata": {},
   "source": [
    "#### I will change the column name from ['rural'] to ['lives in / area type'] because I think its a better description."
   ]
  },
  {
   "cell_type": "code",
   "execution_count": 39,
   "metadata": {},
   "outputs": [],
   "source": [
    "project_m1_cleaned_data = project_m1_cleaned_data.rename(columns = {\"rural\":\"lives in / area type\"})"
   ]
  },
  {
   "cell_type": "code",
   "execution_count": 40,
   "metadata": {},
   "outputs": [],
   "source": [
    "project_m1_cleaned_data['lives in / area type'] = project_m1_cleaned_data['lives in / area type'].str.capitalize()"
   ]
  },
  {
   "cell_type": "markdown",
   "metadata": {},
   "source": [
    "#### Looking at the unique() values inside the ['dem_education_level'] column. I realize we have some nulls/None.\n",
    "- I checked the total amount of null values to determine if it's better to assume that nulls are probably a \"Did not answer / No response\" valid option. Or if I should place the nulls/None inside \"no education\".\n",
    "- I believe adding 663 null values to \"no education\" its not necessarily the best way forward to improve data quality."
   ]
  },
  {
   "cell_type": "code",
   "execution_count": 41,
   "metadata": {},
   "outputs": [
    {
     "data": {
      "text/plain": [
       "array(['no', 'high', None, 'medium', 'low'], dtype=object)"
      ]
     },
     "execution_count": 41,
     "metadata": {},
     "output_type": "execute_result"
    }
   ],
   "source": [
    "project_m1_data['dem_education_level'].unique()"
   ]
  },
  {
   "cell_type": "code",
   "execution_count": 42,
   "metadata": {},
   "outputs": [
    {
     "data": {
      "text/plain": [
       "medium    3578\n",
       "high      3270\n",
       "low       1815\n",
       "no         323\n",
       "Name: dem_education_level, dtype: int64"
      ]
     },
     "execution_count": 42,
     "metadata": {},
     "output_type": "execute_result"
    }
   ],
   "source": [
    "project_m1_data['dem_education_level'].value_counts()"
   ]
  },
  {
   "cell_type": "code",
   "execution_count": 43,
   "metadata": {},
   "outputs": [
    {
     "data": {
      "text/plain": [
       "False    8986\n",
       "True      663\n",
       "Name: dem_education_level, dtype: int64"
      ]
     },
     "execution_count": 43,
     "metadata": {},
     "output_type": "execute_result"
    }
   ],
   "source": [
    "project_m1_data['dem_education_level'].isnull().value_counts()"
   ]
  },
  {
   "cell_type": "code",
   "execution_count": 44,
   "metadata": {},
   "outputs": [],
   "source": [
    "project_m1_data['dem_education_level'].replace(to_replace =\"no\", value =\"no education\", inplace = True)"
   ]
  },
  {
   "cell_type": "code",
   "execution_count": 45,
   "metadata": {},
   "outputs": [],
   "source": [
    "project_m1_cleaned_data['dem_education_level'] = project_m1_data['dem_education_level']"
   ]
  },
  {
   "cell_type": "code",
   "execution_count": 46,
   "metadata": {},
   "outputs": [
    {
     "data": {
      "text/plain": [
       "array(['no education', 'high', None, 'medium', 'low'], dtype=object)"
      ]
     },
     "execution_count": 46,
     "metadata": {},
     "output_type": "execute_result"
    }
   ],
   "source": [
    "project_m1_cleaned_data['dem_education_level'].unique()"
   ]
  },
  {
   "cell_type": "code",
   "execution_count": 47,
   "metadata": {},
   "outputs": [
    {
     "data": {
      "text/html": [
       "<div>\n",
       "<style scoped>\n",
       "    .dataframe tbody tr th:only-of-type {\n",
       "        vertical-align: middle;\n",
       "    }\n",
       "\n",
       "    .dataframe tbody tr th {\n",
       "        vertical-align: top;\n",
       "    }\n",
       "\n",
       "    .dataframe thead th {\n",
       "        text-align: right;\n",
       "    }\n",
       "</style>\n",
       "<table border=\"1\" class=\"dataframe\">\n",
       "  <thead>\n",
       "    <tr style=\"text-align: right;\">\n",
       "      <th></th>\n",
       "      <th>uuid</th>\n",
       "      <th>age</th>\n",
       "      <th>gender</th>\n",
       "      <th>dem_has_children</th>\n",
       "      <th>age_group</th>\n",
       "      <th>dem_education_level</th>\n",
       "      <th>dem_full_time_job</th>\n",
       "      <th>normalized_job_code</th>\n",
       "      <th>country_code</th>\n",
       "      <th>lives in / area type</th>\n",
       "      <th>question_bbi_2016wave4_basicincome_awareness</th>\n",
       "      <th>question_bbi_2016wave4_basicincome_vote</th>\n",
       "      <th>question_bbi_2016wave4_basicincome_effect</th>\n",
       "      <th>question_bbi_2016wave4_basicincome_argumentsfor</th>\n",
       "      <th>question_bbi_2016wave4_basicincome_argumentsagainst</th>\n",
       "    </tr>\n",
       "  </thead>\n",
       "  <tbody>\n",
       "    <tr>\n",
       "      <th>2</th>\n",
       "      <td>83127080-da3d-0133-c74f-0a81e8b09a82</td>\n",
       "      <td>32</td>\n",
       "      <td>Male</td>\n",
       "      <td>NO</td>\n",
       "      <td>26_39</td>\n",
       "      <td>None</td>\n",
       "      <td>NO</td>\n",
       "      <td>None</td>\n",
       "      <td>AT</td>\n",
       "      <td>Urban</td>\n",
       "      <td>I have heard just a little about it</td>\n",
       "      <td>I would not vote</td>\n",
       "      <td>‰Û_ gain additional skills</td>\n",
       "      <td>It creates more equality of opportunity</td>\n",
       "      <td>Foreigners might come to my country and take a...</td>\n",
       "    </tr>\n",
       "    <tr>\n",
       "      <th>23</th>\n",
       "      <td>b1eb3870-decd-0133-d783-0a81e8b09a82</td>\n",
       "      <td>25</td>\n",
       "      <td>Female</td>\n",
       "      <td>NO</td>\n",
       "      <td>14_25</td>\n",
       "      <td>None</td>\n",
       "      <td>YES</td>\n",
       "      <td>3833bd699e7afe4665b595f282da0387</td>\n",
       "      <td>AT</td>\n",
       "      <td>Rural</td>\n",
       "      <td>I know something about it</td>\n",
       "      <td>I would vote for it</td>\n",
       "      <td>A basic income would not affect my work choices</td>\n",
       "      <td>It reduces anxiety about financing basic needs...</td>\n",
       "      <td>It might encourage people to stop working</td>\n",
       "    </tr>\n",
       "    <tr>\n",
       "      <th>29</th>\n",
       "      <td>12cd5b70-dbd8-0133-0395-0a81e8b09a82</td>\n",
       "      <td>40</td>\n",
       "      <td>Male</td>\n",
       "      <td>YES</td>\n",
       "      <td>40_65</td>\n",
       "      <td>None</td>\n",
       "      <td>YES</td>\n",
       "      <td>dac2e921c1f887d9efc4c06fa33c1397</td>\n",
       "      <td>AT</td>\n",
       "      <td>Rural</td>\n",
       "      <td>I have never heard of it</td>\n",
       "      <td>I would vote for it</td>\n",
       "      <td>‰Û_ work less</td>\n",
       "      <td>None of the above</td>\n",
       "      <td>None of the above</td>\n",
       "    </tr>\n",
       "    <tr>\n",
       "      <th>52</th>\n",
       "      <td>c76aa3e0-dbf6-0133-0d62-0a81e8b09a82</td>\n",
       "      <td>49</td>\n",
       "      <td>Male</td>\n",
       "      <td>YES</td>\n",
       "      <td>40_65</td>\n",
       "      <td>None</td>\n",
       "      <td>YES</td>\n",
       "      <td>847165cfda6b1dc82ae22b967da8af2f</td>\n",
       "      <td>AT</td>\n",
       "      <td>Rural</td>\n",
       "      <td>I know something about it</td>\n",
       "      <td>I would probably vote for it</td>\n",
       "      <td>‰Û_ spend more time with my family</td>\n",
       "      <td>It encourages financial independence and self-...</td>\n",
       "      <td>It is impossible to finance</td>\n",
       "    </tr>\n",
       "    <tr>\n",
       "      <th>55</th>\n",
       "      <td>d4ac22b0-dd5d-0133-dd11-0a81e8b09a82</td>\n",
       "      <td>46</td>\n",
       "      <td>Female</td>\n",
       "      <td>YES</td>\n",
       "      <td>40_65</td>\n",
       "      <td>None</td>\n",
       "      <td>NO</td>\n",
       "      <td>None</td>\n",
       "      <td>AT</td>\n",
       "      <td>Rural</td>\n",
       "      <td>I know something about it</td>\n",
       "      <td>I would probably vote for it</td>\n",
       "      <td>None of the above</td>\n",
       "      <td>It creates more equality of opportunity | It r...</td>\n",
       "      <td>It might encourage people to stop working | It...</td>\n",
       "    </tr>\n",
       "  </tbody>\n",
       "</table>\n",
       "</div>"
      ],
      "text/plain": [
       "                                    uuid  age  gender dem_has_children  \\\n",
       "2   83127080-da3d-0133-c74f-0a81e8b09a82   32    Male               NO   \n",
       "23  b1eb3870-decd-0133-d783-0a81e8b09a82   25  Female               NO   \n",
       "29  12cd5b70-dbd8-0133-0395-0a81e8b09a82   40    Male              YES   \n",
       "52  c76aa3e0-dbf6-0133-0d62-0a81e8b09a82   49    Male              YES   \n",
       "55  d4ac22b0-dd5d-0133-dd11-0a81e8b09a82   46  Female              YES   \n",
       "\n",
       "   age_group dem_education_level dem_full_time_job  \\\n",
       "2      26_39                None                NO   \n",
       "23     14_25                None               YES   \n",
       "29     40_65                None               YES   \n",
       "52     40_65                None               YES   \n",
       "55     40_65                None                NO   \n",
       "\n",
       "                 normalized_job_code country_code lives in / area type  \\\n",
       "2                               None           AT                Urban   \n",
       "23  3833bd699e7afe4665b595f282da0387           AT                Rural   \n",
       "29  dac2e921c1f887d9efc4c06fa33c1397           AT                Rural   \n",
       "52  847165cfda6b1dc82ae22b967da8af2f           AT                Rural   \n",
       "55                              None           AT                Rural   \n",
       "\n",
       "   question_bbi_2016wave4_basicincome_awareness  \\\n",
       "2           I have heard just a little about it   \n",
       "23                    I know something about it   \n",
       "29                     I have never heard of it   \n",
       "52                    I know something about it   \n",
       "55                    I know something about it   \n",
       "\n",
       "   question_bbi_2016wave4_basicincome_vote  \\\n",
       "2                         I would not vote   \n",
       "23                     I would vote for it   \n",
       "29                     I would vote for it   \n",
       "52            I would probably vote for it   \n",
       "55            I would probably vote for it   \n",
       "\n",
       "          question_bbi_2016wave4_basicincome_effect  \\\n",
       "2                        ‰Û_ gain additional skills   \n",
       "23  A basic income would not affect my work choices   \n",
       "29                                    ‰Û_ work less   \n",
       "52               ‰Û_ spend more time with my family   \n",
       "55                                None of the above   \n",
       "\n",
       "      question_bbi_2016wave4_basicincome_argumentsfor  \\\n",
       "2             It creates more equality of opportunity   \n",
       "23  It reduces anxiety about financing basic needs...   \n",
       "29                                  None of the above   \n",
       "52  It encourages financial independence and self-...   \n",
       "55  It creates more equality of opportunity | It r...   \n",
       "\n",
       "   question_bbi_2016wave4_basicincome_argumentsagainst  \n",
       "2   Foreigners might come to my country and take a...   \n",
       "23          It might encourage people to stop working   \n",
       "29                                  None of the above   \n",
       "52                        It is impossible to finance   \n",
       "55  It might encourage people to stop working | It...   "
      ]
     },
     "execution_count": 47,
     "metadata": {},
     "output_type": "execute_result"
    }
   ],
   "source": [
    "project_m1_cleaned_data[project_m1_data['dem_education_level'].isnull()].head(5)"
   ]
  },
  {
   "cell_type": "code",
   "execution_count": 48,
   "metadata": {},
   "outputs": [
    {
     "name": "stdout",
     "output_type": "stream",
     "text": [
      "<class 'pandas.core.frame.DataFrame'>\n",
      "RangeIndex: 9649 entries, 0 to 9648\n",
      "Data columns (total 15 columns):\n",
      " #   Column                                               Non-Null Count  Dtype \n",
      "---  ------                                               --------------  ----- \n",
      " 0   uuid                                                 9649 non-null   object\n",
      " 1   age                                                  9649 non-null   int64 \n",
      " 2   gender                                               9649 non-null   object\n",
      " 3   dem_has_children                                     9649 non-null   object\n",
      " 4   age_group                                            9649 non-null   object\n",
      " 5   dem_education_level                                  8986 non-null   object\n",
      " 6   dem_full_time_job                                    9649 non-null   object\n",
      " 7   normalized_job_code                                  5702 non-null   object\n",
      " 8   country_code                                         9649 non-null   object\n",
      " 9   lives in / area type                                 9649 non-null   object\n",
      " 10  question_bbi_2016wave4_basicincome_awareness         9649 non-null   object\n",
      " 11  question_bbi_2016wave4_basicincome_vote              9649 non-null   object\n",
      " 12  question_bbi_2016wave4_basicincome_effect            9649 non-null   object\n",
      " 13  question_bbi_2016wave4_basicincome_argumentsfor      9649 non-null   object\n",
      " 14  question_bbi_2016wave4_basicincome_argumentsagainst  9649 non-null   object\n",
      "dtypes: int64(1), object(14)\n",
      "memory usage: 1.1+ MB\n"
     ]
    }
   ],
   "source": [
    "project_m1_cleaned_data.info()"
   ]
  },
  {
   "cell_type": "code",
   "execution_count": 49,
   "metadata": {},
   "outputs": [
    {
     "data": {
      "text/plain": [
       "157"
      ]
     },
     "execution_count": 49,
     "metadata": {},
     "output_type": "execute_result"
    }
   ],
   "source": [
    "len(project_m1_data['normalized_job_code'].unique())"
   ]
  },
  {
   "cell_type": "code",
   "execution_count": 50,
   "metadata": {},
   "outputs": [
    {
     "data": {
      "text/plain": [
       "775190277a849cba701b306a7b374c0a    101\n",
       "049a3f3a2b5f85cb2971ba77ad66e10c     88\n",
       "fcaf4aac737e53ad24b9f32f08b8740f     88\n",
       "dac2e921c1f887d9efc4c06fa33c1397     88\n",
       "d4624ed8068d24948e18303212593cd6     88\n",
       "                                   ... \n",
       "58eaf730050d2e23c7361fbb782e30a2      6\n",
       "5285758deb04c98f58cbae2747195f33      5\n",
       "7aecc34a90868aac810bf3693b11534e      5\n",
       "631bc3a12ed11340fc94ebfffa8f5f4e      4\n",
       "b42566382f2d3deeca56d3667004fc9e      4\n",
       "Name: normalized_job_code, Length: 156, dtype: int64"
      ]
     },
     "execution_count": 50,
     "metadata": {},
     "output_type": "execute_result"
    }
   ],
   "source": [
    "project_m1_cleaned_data['normalized_job_code'].value_counts()"
   ]
  },
  {
   "cell_type": "code",
   "execution_count": 51,
   "metadata": {},
   "outputs": [
    {
     "data": {
      "text/plain": [
       "I know something about it              3389\n",
       "I understand it fully                  2389\n",
       "I have heard just a little about it    2305\n",
       "I have never heard of it               1566\n",
       "Name: question_bbi_2016wave4_basicincome_awareness, dtype: int64"
      ]
     },
     "execution_count": 51,
     "metadata": {},
     "output_type": "execute_result"
    }
   ],
   "source": [
    "project_m1_cleaned_data['question_bbi_2016wave4_basicincome_awareness'].value_counts()"
   ]
  },
  {
   "cell_type": "code",
   "execution_count": 52,
   "metadata": {},
   "outputs": [
    {
     "data": {
      "text/plain": [
       "I would probably vote for it        3272\n",
       "I would vote for it                 2819\n",
       "I would probably vote against it    1439\n",
       "I would not vote                    1159\n",
       "I would vote against it              960\n",
       "Name: question_bbi_2016wave4_basicincome_vote, dtype: int64"
      ]
     },
     "execution_count": 52,
     "metadata": {},
     "output_type": "execute_result"
    }
   ],
   "source": [
    "project_m1_cleaned_data['question_bbi_2016wave4_basicincome_vote'].value_counts()"
   ]
  },
  {
   "cell_type": "code",
   "execution_count": 53,
   "metadata": {},
   "outputs": [
    {
     "data": {
      "text/plain": [
       "A basic income would not affect my work choices    3349\n",
       "‰Û_ spend more time with my family                 1387\n",
       "None of the above                                  1227\n",
       "‰Û_ gain additional skills                          970\n",
       "‰Û_ look for a different job                        640\n",
       "‰Û_ work less                                       629\n",
       "‰Û_ do more volunteering work                       615\n",
       "‰Û_ work as a freelancer                            465\n",
       "‰Û_ stop working                                    367\n",
       "Name: question_bbi_2016wave4_basicincome_effect, dtype: int64"
      ]
     },
     "execution_count": 53,
     "metadata": {},
     "output_type": "execute_result"
    }
   ],
   "source": [
    "project_m1_cleaned_data['question_bbi_2016wave4_basicincome_effect'].value_counts()"
   ]
  },
  {
   "cell_type": "code",
   "execution_count": 54,
   "metadata": {},
   "outputs": [
    {
     "data": {
      "text/plain": [
       "None of the above                                                                                                                                                                                                                                                                                                                           2163\n",
       "It reduces anxiety about financing basic needs                                                                                                                                                                                                                                                                                              1273\n",
       "It creates more equality of opportunity                                                                                                                                                                                                                                                                                                      848\n",
       "It encourages financial independence and self-responsibility                                                                                                                                                                                                                                                                                 583\n",
       "It increases solidarity, because it is funded by everyone                                                                                                                                                                                                                                                                                    479\n",
       "                                                                                                                                                                                                                                                                                                                                            ... \n",
       "It creates more equality of opportunity | It increases solidarity, because it is funded by everyone | It reduces bureaucracy and administrative expenses | It increases appreciation for household work and volunteering                                                                                                                       1\n",
       "It creates more equality of opportunity | It encourages financial independence and self-responsibility | It reduces bureaucracy and administrative expenses | It reduces anxiety about financing basic needs | It increases appreciation for household work and volunteering                                                                   1\n",
       "It encourages financial independence and self-responsibility | It reduces bureaucracy and administrative expenses | It reduces anxiety about financing basic needs | It creates more equality of opportunity | It increases solidarity, because it is funded by everyone | It increases appreciation for household work and volunteering       1\n",
       "It increases appreciation for household work and volunteering | It reduces bureaucracy and administrative expenses | It reduces anxiety about financing basic needs | It increases solidarity, because it is funded by everyone | It creates more equality of opportunity | It encourages financial independence and self-responsibility       1\n",
       "It reduces bureaucracy and administrative expenses | It creates more equality of opportunity | It reduces anxiety about financing basic needs | It encourages financial independence and self-responsibility                                                                                                                                   1\n",
       "Name: question_bbi_2016wave4_basicincome_argumentsfor, Length: 674, dtype: int64"
      ]
     },
     "execution_count": 54,
     "metadata": {},
     "output_type": "execute_result"
    }
   ],
   "source": [
    "project_m1_cleaned_data['question_bbi_2016wave4_basicincome_argumentsfor'].value_counts()"
   ]
  },
  {
   "cell_type": "code",
   "execution_count": 55,
   "metadata": {},
   "outputs": [
    {
     "data": {
      "text/plain": [
       "None of the above                                                                                                                                                                                                                                                                                                          1381\n",
       "Only the people who need it most should get something from the state                                                                                                                                                                                                                                                        875\n",
       "It might encourage people to stop working                                                                                                                                                                                                                                                                                   823\n",
       "It is impossible to finance                                                                                                                                                                                                                                                                                                 767\n",
       "Foreigners might come to my country and take advantage of the benefit                                                                                                                                                                                                                                                       632\n",
       "                                                                                                                                                                                                                                                                                                                           ... \n",
       "Foreigners might come to my country and take advantage of the benefit | It is against the principle of linking merit and reward | It increases dependence on the state | It is impossible to finance | Only the people who need it most should get something from the state | It might encourage people to stop working       1\n",
       "Foreigners might come to my country and take advantage of the benefit | It is against the principle of linking merit and reward | It might encourage people to stop working | Only the people who need it most should get something from the state | It is impossible to finance | It increases dependence on the state       1\n",
       "Only the people who need it most should get something from the state | It might encourage people to stop working | It increases dependence on the state | It is against the principle of linking merit and reward | It is impossible to finance | Foreigners might come to my country and take advantage of the benefit       1\n",
       "Only the people who need it most should get something from the state | It might encourage people to stop working | Foreigners might come to my country and take advantage of the benefit | It is impossible to finance                                                                                                        1\n",
       "It is impossible to finance | It increases dependence on the state | Foreigners might come to my country and take advantage of the benefit | It might encourage people to stop working | Only the people who need it most should get something from the state                                                                 1\n",
       "Name: question_bbi_2016wave4_basicincome_argumentsagainst, Length: 881, dtype: int64"
      ]
     },
     "execution_count": 55,
     "metadata": {},
     "output_type": "execute_result"
    }
   ],
   "source": [
    "project_m1_cleaned_data['question_bbi_2016wave4_basicincome_argumentsagainst'].value_counts()"
   ]
  }
 ],
 "metadata": {
  "kernelspec": {
   "display_name": "Python [conda env:ironhack_env]",
   "language": "python",
   "name": "conda-env-ironhack_env-py"
  },
  "language_info": {
   "codemirror_mode": {
    "name": "ipython",
    "version": 3
   },
   "file_extension": ".py",
   "mimetype": "text/x-python",
   "name": "python",
   "nbconvert_exporter": "python",
   "pygments_lexer": "ipython3",
   "version": "3.8.5"
  }
 },
 "nbformat": 4,
 "nbformat_minor": 4
}
